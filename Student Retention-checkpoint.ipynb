{
 "cells": [
  {
   "cell_type": "markdown",
   "id": "66c8eac6",
   "metadata": {},
   "source": [
    "# Student Dropout Prediction Challenge"
   ]
  },
  {
   "cell_type": "markdown",
   "id": "aec13139",
   "metadata": {},
   "source": [
    "## Introduction"
   ]
  },
  {
   "cell_type": "markdown",
   "id": "4d48ff46",
   "metadata": {},
   "source": [
    "Every year, a large number of students drop out of college. This has an impact not only on students but also on colleges. Predicting dropouts might help you spot potential dangers. Universities can use this research to determine which students are likely to drop out, allowing them to work with them ahead of time to fix any obstacles or issues they may have."
   ]
  },
  {
   "cell_type": "markdown",
   "id": "1dcb9fcd",
   "metadata": {},
   "source": [
    "### Objective"
   ]
  },
  {
   "cell_type": "markdown",
   "id": "cbc0992f",
   "metadata": {},
   "source": [
    "The goal of this project is to predict a student's performance in finishing his or her education. This indicates\n",
    "whether or not a student will drop out of an enrolled course."
   ]
  },
  {
   "cell_type": "markdown",
   "id": "66d568a8",
   "metadata": {},
   "source": [
    "### Data"
   ]
  },
  {
   "cell_type": "markdown",
   "id": "ace331b3",
   "metadata": {},
   "source": [
    "Data collected is for students pursuing Bachelor’s degree during 2012 to 2017. This datasets is\n",
    "divided into three parts\n",
    "1. Static Data\n",
    "2. Progress Data\n",
    "3. Financial Aid Data"
   ]
  },
  {
   "cell_type": "code",
   "execution_count": 1440,
   "id": "8486235e",
   "metadata": {},
   "outputs": [],
   "source": [
    "#import Python modules\n",
    "import pandas as pd   \n",
    "import numpy as np\n",
    "import random  \n",
    "import matplotlib.pyplot as plt\n",
    "import seaborn as sns\n",
    "\n",
    "# Module for Train Test split\n",
    "from sklearn.model_selection import train_test_split\n",
    "from sklearn.linear_model import LogisticRegression\n",
    "import statsmodels.api as sm\n",
    "from sklearn import metrics\n",
    "from sklearn.metrics import confusion_matrix\n",
    "%matplotlib inline"
   ]
  },
  {
   "cell_type": "markdown",
   "id": "0837b888",
   "metadata": {},
   "source": [
    "## Student Static Data"
   ]
  },
  {
   "cell_type": "code",
   "execution_count": 1441,
   "id": "75cf7eb5",
   "metadata": {},
   "outputs": [],
   "source": [
    "#Import the datasets \n",
    "df1 = pd.read_csv('Student Static Data/Fall 2011_ST.csv')\n",
    "df2 = pd.read_csv('Student Static Data/Fall 2012.csv')\n",
    "df3 = pd.read_csv('Student Static Data/Fall 2013.csv')\n",
    "df4 = pd.read_csv('Student Static Data/Fall 2014.csv')\n",
    "df5 = pd.read_csv('Student Static Data/Fall 2015.csv')\n",
    "df6 = pd.read_csv('Student Static Data/Fall 2016.csv')\n",
    "df7 = pd.read_csv('Student Static Data/Spring 2012_ST.csv')\n",
    "df8 = pd.read_csv('Student Static Data/Spring 2013.csv')\n",
    "df9 = pd.read_csv('Student Static Data/Spring 2014.csv')\n",
    "df11 = pd.read_csv('Student Static Data/Spring 2015.csv')\n",
    "df12 = pd.read_csv('Student Static Data/Spring 2016.csv')"
   ]
  },
  {
   "cell_type": "code",
   "execution_count": 1442,
   "id": "8b23e217",
   "metadata": {},
   "outputs": [],
   "source": [
    "frames = [df1, df2, df3,df4,df5,df6,df7,df8,df9,df11,df12]"
   ]
  },
  {
   "cell_type": "code",
   "execution_count": 1443,
   "id": "19451fd9",
   "metadata": {},
   "outputs": [],
   "source": [
    "Student_Static_Data = pd.concat(frames)"
   ]
  },
  {
   "cell_type": "code",
   "execution_count": 1444,
   "id": "b3a22e39",
   "metadata": {},
   "outputs": [
    {
     "data": {
      "text/html": [
       "<div>\n",
       "<style scoped>\n",
       "    .dataframe tbody tr th:only-of-type {\n",
       "        vertical-align: middle;\n",
       "    }\n",
       "\n",
       "    .dataframe tbody tr th {\n",
       "        vertical-align: top;\n",
       "    }\n",
       "\n",
       "    .dataframe thead th {\n",
       "        text-align: right;\n",
       "    }\n",
       "</style>\n",
       "<table border=\"1\" class=\"dataframe\">\n",
       "  <thead>\n",
       "    <tr style=\"text-align: right;\">\n",
       "      <th></th>\n",
       "      <th>StudentID</th>\n",
       "      <th>Cohort</th>\n",
       "      <th>CohortTerm</th>\n",
       "      <th>Campus</th>\n",
       "      <th>Address1</th>\n",
       "      <th>Address2</th>\n",
       "      <th>City</th>\n",
       "      <th>State</th>\n",
       "      <th>Zip</th>\n",
       "      <th>RegistrationDate</th>\n",
       "      <th>...</th>\n",
       "      <th>DualHSSummerEnroll</th>\n",
       "      <th>EnrollmentStatus</th>\n",
       "      <th>NumColCredAttemptTransfer</th>\n",
       "      <th>NumColCredAcceptTransfer</th>\n",
       "      <th>CumLoanAtEntry</th>\n",
       "      <th>HighDeg</th>\n",
       "      <th>MathPlacement</th>\n",
       "      <th>EngPlacement</th>\n",
       "      <th>GatewayMathStatus</th>\n",
       "      <th>GatewayEnglishStatus</th>\n",
       "    </tr>\n",
       "  </thead>\n",
       "  <tbody>\n",
       "    <tr>\n",
       "      <th>0</th>\n",
       "      <td>285848</td>\n",
       "      <td>2011-12</td>\n",
       "      <td>1</td>\n",
       "      <td>NaN</td>\n",
       "      <td>328 Adams St Apt 1</td>\n",
       "      <td>NaN</td>\n",
       "      <td>Hoboken</td>\n",
       "      <td>NJ</td>\n",
       "      <td>7030.0</td>\n",
       "      <td>20110808</td>\n",
       "      <td>...</td>\n",
       "      <td>0</td>\n",
       "      <td>2</td>\n",
       "      <td>0.0</td>\n",
       "      <td>0.0</td>\n",
       "      <td>-1</td>\n",
       "      <td>0</td>\n",
       "      <td>0</td>\n",
       "      <td>0</td>\n",
       "      <td>0</td>\n",
       "      <td>0</td>\n",
       "    </tr>\n",
       "    <tr>\n",
       "      <th>1</th>\n",
       "      <td>302176</td>\n",
       "      <td>2011-12</td>\n",
       "      <td>1</td>\n",
       "      <td>NaN</td>\n",
       "      <td>142 Cherry St</td>\n",
       "      <td>NaN</td>\n",
       "      <td>Jersey City</td>\n",
       "      <td>NJ</td>\n",
       "      <td>7305.0</td>\n",
       "      <td>20110804</td>\n",
       "      <td>...</td>\n",
       "      <td>0</td>\n",
       "      <td>2</td>\n",
       "      <td>96.0</td>\n",
       "      <td>45.0</td>\n",
       "      <td>-1</td>\n",
       "      <td>0</td>\n",
       "      <td>0</td>\n",
       "      <td>0</td>\n",
       "      <td>0</td>\n",
       "      <td>0</td>\n",
       "    </tr>\n",
       "    <tr>\n",
       "      <th>2</th>\n",
       "      <td>301803</td>\n",
       "      <td>2011-12</td>\n",
       "      <td>1</td>\n",
       "      <td>NaN</td>\n",
       "      <td>12 Rainbow Street</td>\n",
       "      <td>NaN</td>\n",
       "      <td>Presque Isle</td>\n",
       "      <td>ME</td>\n",
       "      <td>4769.0</td>\n",
       "      <td>20110809</td>\n",
       "      <td>...</td>\n",
       "      <td>0</td>\n",
       "      <td>2</td>\n",
       "      <td>0.0</td>\n",
       "      <td>0.0</td>\n",
       "      <td>-1</td>\n",
       "      <td>0</td>\n",
       "      <td>0</td>\n",
       "      <td>0</td>\n",
       "      <td>0</td>\n",
       "      <td>0</td>\n",
       "    </tr>\n",
       "    <tr>\n",
       "      <th>3</th>\n",
       "      <td>302756</td>\n",
       "      <td>2011-12</td>\n",
       "      <td>1</td>\n",
       "      <td>NaN</td>\n",
       "      <td>345 4th St Apt 2</td>\n",
       "      <td>NaN</td>\n",
       "      <td>Jersey City</td>\n",
       "      <td>NJ</td>\n",
       "      <td>7302.0</td>\n",
       "      <td>20110823</td>\n",
       "      <td>...</td>\n",
       "      <td>0</td>\n",
       "      <td>2</td>\n",
       "      <td>54.0</td>\n",
       "      <td>87.5</td>\n",
       "      <td>-1</td>\n",
       "      <td>0</td>\n",
       "      <td>0</td>\n",
       "      <td>0</td>\n",
       "      <td>0</td>\n",
       "      <td>0</td>\n",
       "    </tr>\n",
       "    <tr>\n",
       "      <th>4</th>\n",
       "      <td>300304</td>\n",
       "      <td>2011-12</td>\n",
       "      <td>1</td>\n",
       "      <td>NaN</td>\n",
       "      <td>6600 Broadway</td>\n",
       "      <td>Apt 3D</td>\n",
       "      <td>West New York</td>\n",
       "      <td>NJ</td>\n",
       "      <td>7093.0</td>\n",
       "      <td>20110725</td>\n",
       "      <td>...</td>\n",
       "      <td>0</td>\n",
       "      <td>1</td>\n",
       "      <td>-2.0</td>\n",
       "      <td>-2.0</td>\n",
       "      <td>-2</td>\n",
       "      <td>0</td>\n",
       "      <td>1</td>\n",
       "      <td>0</td>\n",
       "      <td>0</td>\n",
       "      <td>0</td>\n",
       "    </tr>\n",
       "    <tr>\n",
       "      <th>5</th>\n",
       "      <td>301067</td>\n",
       "      <td>2011-12</td>\n",
       "      <td>1</td>\n",
       "      <td>NaN</td>\n",
       "      <td>240 3rd St</td>\n",
       "      <td>NaN</td>\n",
       "      <td>Jersey City</td>\n",
       "      <td>NJ</td>\n",
       "      <td>7302.0</td>\n",
       "      <td>20110420</td>\n",
       "      <td>...</td>\n",
       "      <td>0</td>\n",
       "      <td>2</td>\n",
       "      <td>70.0</td>\n",
       "      <td>66.0</td>\n",
       "      <td>-1</td>\n",
       "      <td>2</td>\n",
       "      <td>0</td>\n",
       "      <td>0</td>\n",
       "      <td>0</td>\n",
       "      <td>0</td>\n",
       "    </tr>\n",
       "    <tr>\n",
       "      <th>6</th>\n",
       "      <td>297371</td>\n",
       "      <td>2011-12</td>\n",
       "      <td>1</td>\n",
       "      <td>NaN</td>\n",
       "      <td>15A Claremont Ave</td>\n",
       "      <td>NaN</td>\n",
       "      <td>Jersey City</td>\n",
       "      <td>NJ</td>\n",
       "      <td>7305.0</td>\n",
       "      <td>20110628</td>\n",
       "      <td>...</td>\n",
       "      <td>0</td>\n",
       "      <td>1</td>\n",
       "      <td>-2.0</td>\n",
       "      <td>-2.0</td>\n",
       "      <td>-2</td>\n",
       "      <td>0</td>\n",
       "      <td>0</td>\n",
       "      <td>1</td>\n",
       "      <td>1</td>\n",
       "      <td>0</td>\n",
       "    </tr>\n",
       "    <tr>\n",
       "      <th>7</th>\n",
       "      <td>273211</td>\n",
       "      <td>2011-12</td>\n",
       "      <td>1</td>\n",
       "      <td>NaN</td>\n",
       "      <td>274 Jersey Ave Apt 7</td>\n",
       "      <td>NaN</td>\n",
       "      <td>Cliffside Park</td>\n",
       "      <td>NJ</td>\n",
       "      <td>7306.0</td>\n",
       "      <td>20110810</td>\n",
       "      <td>...</td>\n",
       "      <td>0</td>\n",
       "      <td>2</td>\n",
       "      <td>62.0</td>\n",
       "      <td>66.0</td>\n",
       "      <td>-1</td>\n",
       "      <td>2</td>\n",
       "      <td>0</td>\n",
       "      <td>0</td>\n",
       "      <td>0</td>\n",
       "      <td>0</td>\n",
       "    </tr>\n",
       "    <tr>\n",
       "      <th>8</th>\n",
       "      <td>302772</td>\n",
       "      <td>2011-12</td>\n",
       "      <td>1</td>\n",
       "      <td>NaN</td>\n",
       "      <td>6 Dogwood Ct</td>\n",
       "      <td>NaN</td>\n",
       "      <td>Sayreville</td>\n",
       "      <td>NJ</td>\n",
       "      <td>8872.0</td>\n",
       "      <td>20110908</td>\n",
       "      <td>...</td>\n",
       "      <td>0</td>\n",
       "      <td>2</td>\n",
       "      <td>53.0</td>\n",
       "      <td>45.0</td>\n",
       "      <td>-1</td>\n",
       "      <td>0</td>\n",
       "      <td>0</td>\n",
       "      <td>0</td>\n",
       "      <td>0</td>\n",
       "      <td>0</td>\n",
       "    </tr>\n",
       "    <tr>\n",
       "      <th>9</th>\n",
       "      <td>280023</td>\n",
       "      <td>2011-12</td>\n",
       "      <td>1</td>\n",
       "      <td>NaN</td>\n",
       "      <td>266 Palisade Ave Apt 4D</td>\n",
       "      <td>NaN</td>\n",
       "      <td>Jersey City</td>\n",
       "      <td>NJ</td>\n",
       "      <td>7307.0</td>\n",
       "      <td>20110714</td>\n",
       "      <td>...</td>\n",
       "      <td>0</td>\n",
       "      <td>2</td>\n",
       "      <td>52.0</td>\n",
       "      <td>66.0</td>\n",
       "      <td>-1</td>\n",
       "      <td>0</td>\n",
       "      <td>0</td>\n",
       "      <td>0</td>\n",
       "      <td>0</td>\n",
       "      <td>0</td>\n",
       "    </tr>\n",
       "  </tbody>\n",
       "</table>\n",
       "<p>10 rows × 35 columns</p>\n",
       "</div>"
      ],
      "text/plain": [
       "   StudentID   Cohort  CohortTerm  Campus                 Address1 Address2  \\\n",
       "0     285848  2011-12           1     NaN       328 Adams St Apt 1      NaN   \n",
       "1     302176  2011-12           1     NaN            142 Cherry St      NaN   \n",
       "2     301803  2011-12           1     NaN        12 Rainbow Street      NaN   \n",
       "3     302756  2011-12           1     NaN         345 4th St Apt 2      NaN   \n",
       "4     300304  2011-12           1     NaN            6600 Broadway   Apt 3D   \n",
       "5     301067  2011-12           1     NaN               240 3rd St      NaN   \n",
       "6     297371  2011-12           1     NaN        15A Claremont Ave      NaN   \n",
       "7     273211  2011-12           1     NaN     274 Jersey Ave Apt 7      NaN   \n",
       "8     302772  2011-12           1     NaN             6 Dogwood Ct      NaN   \n",
       "9     280023  2011-12           1     NaN  266 Palisade Ave Apt 4D      NaN   \n",
       "\n",
       "             City State     Zip  RegistrationDate  ...  DualHSSummerEnroll  \\\n",
       "0         Hoboken    NJ  7030.0          20110808  ...                   0   \n",
       "1     Jersey City    NJ  7305.0          20110804  ...                   0   \n",
       "2    Presque Isle    ME  4769.0          20110809  ...                   0   \n",
       "3     Jersey City    NJ  7302.0          20110823  ...                   0   \n",
       "4   West New York    NJ  7093.0          20110725  ...                   0   \n",
       "5     Jersey City    NJ  7302.0          20110420  ...                   0   \n",
       "6     Jersey City    NJ  7305.0          20110628  ...                   0   \n",
       "7  Cliffside Park    NJ  7306.0          20110810  ...                   0   \n",
       "8      Sayreville    NJ  8872.0          20110908  ...                   0   \n",
       "9     Jersey City    NJ  7307.0          20110714  ...                   0   \n",
       "\n",
       "   EnrollmentStatus  NumColCredAttemptTransfer  NumColCredAcceptTransfer  \\\n",
       "0                 2                        0.0                       0.0   \n",
       "1                 2                       96.0                      45.0   \n",
       "2                 2                        0.0                       0.0   \n",
       "3                 2                       54.0                      87.5   \n",
       "4                 1                       -2.0                      -2.0   \n",
       "5                 2                       70.0                      66.0   \n",
       "6                 1                       -2.0                      -2.0   \n",
       "7                 2                       62.0                      66.0   \n",
       "8                 2                       53.0                      45.0   \n",
       "9                 2                       52.0                      66.0   \n",
       "\n",
       "   CumLoanAtEntry  HighDeg  MathPlacement  EngPlacement  GatewayMathStatus  \\\n",
       "0              -1        0              0             0                  0   \n",
       "1              -1        0              0             0                  0   \n",
       "2              -1        0              0             0                  0   \n",
       "3              -1        0              0             0                  0   \n",
       "4              -2        0              1             0                  0   \n",
       "5              -1        2              0             0                  0   \n",
       "6              -2        0              0             1                  1   \n",
       "7              -1        2              0             0                  0   \n",
       "8              -1        0              0             0                  0   \n",
       "9              -1        0              0             0                  0   \n",
       "\n",
       "   GatewayEnglishStatus  \n",
       "0                     0  \n",
       "1                     0  \n",
       "2                     0  \n",
       "3                     0  \n",
       "4                     0  \n",
       "5                     0  \n",
       "6                     0  \n",
       "7                     0  \n",
       "8                     0  \n",
       "9                     0  \n",
       "\n",
       "[10 rows x 35 columns]"
      ]
     },
     "execution_count": 1444,
     "metadata": {},
     "output_type": "execute_result"
    }
   ],
   "source": [
    "Student_Static_Data.head(10)"
   ]
  },
  {
   "cell_type": "code",
   "execution_count": 1445,
   "id": "dc1c8e9d",
   "metadata": {},
   "outputs": [
    {
     "data": {
      "text/plain": [
       "(13261, 35)"
      ]
     },
     "execution_count": 1445,
     "metadata": {},
     "output_type": "execute_result"
    }
   ],
   "source": [
    "Student_Static_Data.shape"
   ]
  },
  {
   "cell_type": "code",
   "execution_count": 1446,
   "id": "51989ea8",
   "metadata": {},
   "outputs": [
    {
     "name": "stdout",
     "output_type": "stream",
     "text": [
      "<class 'pandas.core.frame.DataFrame'>\n",
      "Int64Index: 13261 entries, 0 to 502\n",
      "Data columns (total 35 columns):\n",
      " #   Column                     Non-Null Count  Dtype  \n",
      "---  ------                     --------------  -----  \n",
      " 0   StudentID                  13261 non-null  int64  \n",
      " 1   Cohort                     13261 non-null  object \n",
      " 2   CohortTerm                 13261 non-null  int64  \n",
      " 3   Campus                     0 non-null      float64\n",
      " 4   Address1                   13148 non-null  object \n",
      " 5   Address2                   389 non-null    object \n",
      " 6   City                       13147 non-null  object \n",
      " 7   State                      13148 non-null  object \n",
      " 8   Zip                        13127 non-null  float64\n",
      " 9   RegistrationDate           13261 non-null  int64  \n",
      " 10  Gender                     13261 non-null  int64  \n",
      " 11  BirthYear                  13260 non-null  float64\n",
      " 12  BirthMonth                 13261 non-null  int64  \n",
      " 13  Hispanic                   13261 non-null  int64  \n",
      " 14  AmericanIndian             13261 non-null  int64  \n",
      " 15  Asian                      13261 non-null  int64  \n",
      " 16  Black                      13261 non-null  int64  \n",
      " 17  NativeHawaiian             13261 non-null  int64  \n",
      " 18  White                      13261 non-null  int64  \n",
      " 19  TwoOrMoreRace              13261 non-null  int64  \n",
      " 20  HSDip                      13261 non-null  int64  \n",
      " 21  HSDipYr                    13261 non-null  int64  \n",
      " 22  HSGPAUnwtd                 13261 non-null  float64\n",
      " 23  HSGPAWtd                   13261 non-null  int64  \n",
      " 24  FirstGen                   13261 non-null  int64  \n",
      " 25  DualHSSummerEnroll         13261 non-null  int64  \n",
      " 26  EnrollmentStatus           13261 non-null  int64  \n",
      " 27  NumColCredAttemptTransfer  13261 non-null  float64\n",
      " 28  NumColCredAcceptTransfer   13261 non-null  float64\n",
      " 29  CumLoanAtEntry             13261 non-null  int64  \n",
      " 30  HighDeg                    13261 non-null  int64  \n",
      " 31  MathPlacement              13261 non-null  int64  \n",
      " 32  EngPlacement               13261 non-null  int64  \n",
      " 33  GatewayMathStatus          13261 non-null  int64  \n",
      " 34  GatewayEnglishStatus       13261 non-null  int64  \n",
      "dtypes: float64(6), int64(24), object(5)\n",
      "memory usage: 3.6+ MB\n"
     ]
    }
   ],
   "source": [
    "Student_Static_Data.info()"
   ]
  },
  {
   "cell_type": "code",
   "execution_count": 1447,
   "id": "4f25bcec",
   "metadata": {},
   "outputs": [
    {
     "data": {
      "text/html": [
       "<div>\n",
       "<style scoped>\n",
       "    .dataframe tbody tr th:only-of-type {\n",
       "        vertical-align: middle;\n",
       "    }\n",
       "\n",
       "    .dataframe tbody tr th {\n",
       "        vertical-align: top;\n",
       "    }\n",
       "\n",
       "    .dataframe thead th {\n",
       "        text-align: right;\n",
       "    }\n",
       "</style>\n",
       "<table border=\"1\" class=\"dataframe\">\n",
       "  <thead>\n",
       "    <tr style=\"text-align: right;\">\n",
       "      <th></th>\n",
       "      <th>BirthYear</th>\n",
       "      <th>Campus</th>\n",
       "      <th>HSGPAUnwtd</th>\n",
       "      <th>HSGPAWtd</th>\n",
       "      <th>FirstGen</th>\n",
       "      <th>DualHSSummerEnroll</th>\n",
       "      <th>NumColCredAttemptTransfer</th>\n",
       "      <th>NumColCredAcceptTransfer</th>\n",
       "      <th>CumLoanAtEntry</th>\n",
       "    </tr>\n",
       "  </thead>\n",
       "  <tbody>\n",
       "    <tr>\n",
       "      <th>count</th>\n",
       "      <td>13260.000000</td>\n",
       "      <td>0.0</td>\n",
       "      <td>13261.000000</td>\n",
       "      <td>13261.0</td>\n",
       "      <td>13261.0</td>\n",
       "      <td>13261.0</td>\n",
       "      <td>13261.000000</td>\n",
       "      <td>13261.000000</td>\n",
       "      <td>13261.000000</td>\n",
       "    </tr>\n",
       "    <tr>\n",
       "      <th>mean</th>\n",
       "      <td>1988.916591</td>\n",
       "      <td>NaN</td>\n",
       "      <td>0.162432</td>\n",
       "      <td>-1.0</td>\n",
       "      <td>-1.0</td>\n",
       "      <td>0.0</td>\n",
       "      <td>36.970166</td>\n",
       "      <td>31.765685</td>\n",
       "      <td>-1.411130</td>\n",
       "    </tr>\n",
       "    <tr>\n",
       "      <th>std</th>\n",
       "      <td>8.464010</td>\n",
       "      <td>NaN</td>\n",
       "      <td>1.808477</td>\n",
       "      <td>0.0</td>\n",
       "      <td>0.0</td>\n",
       "      <td>0.0</td>\n",
       "      <td>43.403093</td>\n",
       "      <td>34.535089</td>\n",
       "      <td>0.492057</td>\n",
       "    </tr>\n",
       "    <tr>\n",
       "      <th>min</th>\n",
       "      <td>1945.000000</td>\n",
       "      <td>NaN</td>\n",
       "      <td>-1.000000</td>\n",
       "      <td>-1.0</td>\n",
       "      <td>-1.0</td>\n",
       "      <td>0.0</td>\n",
       "      <td>-2.000000</td>\n",
       "      <td>-2.000000</td>\n",
       "      <td>-2.000000</td>\n",
       "    </tr>\n",
       "    <tr>\n",
       "      <th>25%</th>\n",
       "      <td>1986.000000</td>\n",
       "      <td>NaN</td>\n",
       "      <td>-1.000000</td>\n",
       "      <td>-1.0</td>\n",
       "      <td>-1.0</td>\n",
       "      <td>0.0</td>\n",
       "      <td>-2.000000</td>\n",
       "      <td>-2.000000</td>\n",
       "      <td>-2.000000</td>\n",
       "    </tr>\n",
       "    <tr>\n",
       "      <th>50%</th>\n",
       "      <td>1992.000000</td>\n",
       "      <td>NaN</td>\n",
       "      <td>-1.000000</td>\n",
       "      <td>-1.0</td>\n",
       "      <td>-1.0</td>\n",
       "      <td>0.0</td>\n",
       "      <td>14.000000</td>\n",
       "      <td>22.000000</td>\n",
       "      <td>-1.000000</td>\n",
       "    </tr>\n",
       "    <tr>\n",
       "      <th>75%</th>\n",
       "      <td>1995.000000</td>\n",
       "      <td>NaN</td>\n",
       "      <td>2.400000</td>\n",
       "      <td>-1.0</td>\n",
       "      <td>-1.0</td>\n",
       "      <td>0.0</td>\n",
       "      <td>73.000000</td>\n",
       "      <td>66.000000</td>\n",
       "      <td>-1.000000</td>\n",
       "    </tr>\n",
       "    <tr>\n",
       "      <th>max</th>\n",
       "      <td>2000.000000</td>\n",
       "      <td>NaN</td>\n",
       "      <td>4.000000</td>\n",
       "      <td>-1.0</td>\n",
       "      <td>-1.0</td>\n",
       "      <td>0.0</td>\n",
       "      <td>150.000000</td>\n",
       "      <td>96.000000</td>\n",
       "      <td>-1.000000</td>\n",
       "    </tr>\n",
       "  </tbody>\n",
       "</table>\n",
       "</div>"
      ],
      "text/plain": [
       "          BirthYear  Campus    HSGPAUnwtd  HSGPAWtd  FirstGen  \\\n",
       "count  13260.000000     0.0  13261.000000   13261.0   13261.0   \n",
       "mean    1988.916591     NaN      0.162432      -1.0      -1.0   \n",
       "std        8.464010     NaN      1.808477       0.0       0.0   \n",
       "min     1945.000000     NaN     -1.000000      -1.0      -1.0   \n",
       "25%     1986.000000     NaN     -1.000000      -1.0      -1.0   \n",
       "50%     1992.000000     NaN     -1.000000      -1.0      -1.0   \n",
       "75%     1995.000000     NaN      2.400000      -1.0      -1.0   \n",
       "max     2000.000000     NaN      4.000000      -1.0      -1.0   \n",
       "\n",
       "       DualHSSummerEnroll  NumColCredAttemptTransfer  \\\n",
       "count             13261.0               13261.000000   \n",
       "mean                  0.0                  36.970166   \n",
       "std                   0.0                  43.403093   \n",
       "min                   0.0                  -2.000000   \n",
       "25%                   0.0                  -2.000000   \n",
       "50%                   0.0                  14.000000   \n",
       "75%                   0.0                  73.000000   \n",
       "max                   0.0                 150.000000   \n",
       "\n",
       "       NumColCredAcceptTransfer  CumLoanAtEntry  \n",
       "count              13261.000000    13261.000000  \n",
       "mean                  31.765685       -1.411130  \n",
       "std                   34.535089        0.492057  \n",
       "min                   -2.000000       -2.000000  \n",
       "25%                   -2.000000       -2.000000  \n",
       "50%                   22.000000       -1.000000  \n",
       "75%                   66.000000       -1.000000  \n",
       "max                   96.000000       -1.000000  "
      ]
     },
     "execution_count": 1447,
     "metadata": {},
     "output_type": "execute_result"
    }
   ],
   "source": [
    "Student_Static_Data[['BirthYear','Campus','HSGPAUnwtd','HSGPAWtd','FirstGen','DualHSSummerEnroll','NumColCredAttemptTransfer','NumColCredAcceptTransfer','CumLoanAtEntry']].describe()"
   ]
  },
  {
   "cell_type": "markdown",
   "id": "fdc799e2",
   "metadata": {},
   "source": [
    "### Data Cleaning for Student Static Data"
   ]
  },
  {
   "cell_type": "code",
   "execution_count": 1448,
   "id": "8a11a982",
   "metadata": {},
   "outputs": [],
   "source": [
    "#ALL Campus data are missing,drop this column\n",
    "Student_Static_Data=Student_Static_Data.drop(columns=['Campus'])"
   ]
  },
  {
   "cell_type": "code",
   "execution_count": 1449,
   "id": "024a4c3d",
   "metadata": {},
   "outputs": [],
   "source": [
    "#Fill one missing value with mean for birth year\n",
    "Student_Static_Data[['BirthYear']]=Student_Static_Data[['BirthYear']].fillna(1989)"
   ]
  },
  {
   "cell_type": "code",
   "execution_count": 1450,
   "id": "666916a0",
   "metadata": {},
   "outputs": [
    {
     "data": {
      "text/plain": [
       " 1    12887\n",
       "-1      289\n",
       " 2       75\n",
       " 4       10\n",
       "Name: HSDip, dtype: int64"
      ]
     },
     "execution_count": 1450,
     "metadata": {},
     "output_type": "execute_result"
    }
   ],
   "source": [
    "Student_Static_Data['HSDip'].value_counts()"
   ]
  },
  {
   "cell_type": "code",
   "execution_count": 1451,
   "id": "bb1ae259",
   "metadata": {},
   "outputs": [],
   "source": [
    "#Missing values for HSDip  can be filled with 1, As It's necessary to have high school certificate to join a university course\n",
    "Student_Static_Data[['HSDip']]=Student_Static_Data[['HSDip']].replace(to_replace =-1,value =1)"
   ]
  },
  {
   "cell_type": "code",
   "execution_count": 1452,
   "id": "6da6ff1b",
   "metadata": {},
   "outputs": [
    {
     "data": {
      "text/plain": [
       "-1.00    9318\n",
       " 2.70     213\n",
       " 2.80     199\n",
       " 2.50     192\n",
       " 2.60     166\n",
       "         ... \n",
       " 2.05       1\n",
       " 2.11       1\n",
       " 3.86       1\n",
       " 1.89       1\n",
       " 1.91       1\n",
       "Name: HSGPAUnwtd, Length: 214, dtype: int64"
      ]
     },
     "execution_count": 1452,
     "metadata": {},
     "output_type": "execute_result"
    }
   ],
   "source": [
    "Student_Static_Data['HSGPAUnwtd'].value_counts()"
   ]
  },
  {
   "cell_type": "code",
   "execution_count": 1453,
   "id": "2b905be8",
   "metadata": {},
   "outputs": [],
   "source": [
    "#Fill the missing value of HSGPAUnwtd as zero\n",
    "Student_Static_Data[['HSGPAUnwtd']]=Student_Static_Data[['HSGPAUnwtd']].replace(to_replace =-1,value =0)"
   ]
  },
  {
   "cell_type": "code",
   "execution_count": 1454,
   "id": "ffd4c43b",
   "metadata": {},
   "outputs": [
    {
     "data": {
      "text/plain": [
       "-1    13261\n",
       "Name: HSGPAWtd, dtype: int64"
      ]
     },
     "execution_count": 1454,
     "metadata": {},
     "output_type": "execute_result"
    }
   ],
   "source": [
    "Student_Static_Data['HSGPAWtd'].value_counts()"
   ]
  },
  {
   "cell_type": "code",
   "execution_count": 1455,
   "id": "c5e2a6a0",
   "metadata": {},
   "outputs": [],
   "source": [
    "#All values of HSGPAWtd are missing,drop this column\n",
    "Student_Static_Data=Student_Static_Data.drop(columns=['HSGPAWtd'])"
   ]
  },
  {
   "cell_type": "code",
   "execution_count": 1456,
   "id": "558f14eb",
   "metadata": {},
   "outputs": [
    {
     "data": {
      "text/plain": [
       "-1    13261\n",
       "Name: FirstGen, dtype: int64"
      ]
     },
     "execution_count": 1456,
     "metadata": {},
     "output_type": "execute_result"
    }
   ],
   "source": [
    "Student_Static_Data['FirstGen'].value_counts()"
   ]
  },
  {
   "cell_type": "code",
   "execution_count": 1457,
   "id": "298c2b27",
   "metadata": {},
   "outputs": [],
   "source": [
    "#All values of HSGPAWtd are missing,drop this column\n",
    "Student_Static_Data=Student_Static_Data.drop(columns=['FirstGen'])"
   ]
  },
  {
   "cell_type": "code",
   "execution_count": 1458,
   "id": "2077c54b",
   "metadata": {},
   "outputs": [
    {
     "data": {
      "text/plain": [
       "0    13261\n",
       "Name: DualHSSummerEnroll, dtype: int64"
      ]
     },
     "execution_count": 1458,
     "metadata": {},
     "output_type": "execute_result"
    }
   ],
   "source": [
    "Student_Static_Data['DualHSSummerEnroll'].value_counts()"
   ]
  },
  {
   "cell_type": "code",
   "execution_count": 1459,
   "id": "78a8797a",
   "metadata": {},
   "outputs": [],
   "source": [
    "#All values of DualHSSummerEnroll are 0, so it has no effect on the analysis,drop this column\n",
    "Student_Static_Data=Student_Static_Data.drop(columns=['DualHSSummerEnroll'])"
   ]
  },
  {
   "cell_type": "code",
   "execution_count": 1460,
   "id": "60ef1e71",
   "metadata": {
    "scrolled": true
   },
   "outputs": [
    {
     "data": {
      "text/plain": [
       "-2.00      5452\n",
       " 0.00       683\n",
       "-1.00       397\n",
       " 65.00      213\n",
       " 68.00      168\n",
       "           ... \n",
       " 44.10        1\n",
       " 114.50       1\n",
       " 50.75        1\n",
       " 126.50       1\n",
       " 23.50        1\n",
       "Name: NumColCredAttemptTransfer, Length: 310, dtype: int64"
      ]
     },
     "execution_count": 1460,
     "metadata": {},
     "output_type": "execute_result"
    }
   ],
   "source": [
    "Student_Static_Data['NumColCredAttemptTransfer'].value_counts()"
   ]
  },
  {
   "cell_type": "code",
   "execution_count": 1461,
   "id": "af474664",
   "metadata": {},
   "outputs": [],
   "source": [
    "#Fill the missing value of NumColCredAttemptTransfer as zero\n",
    "Student_Static_Data[['NumColCredAttemptTransfer']]=Student_Static_Data[['NumColCredAttemptTransfer']].replace(to_replace =-1,value =0)"
   ]
  },
  {
   "cell_type": "code",
   "execution_count": 1462,
   "id": "8d711da0",
   "metadata": {
    "scrolled": true
   },
   "outputs": [
    {
     "data": {
      "text/plain": [
       "-2.0     5452\n",
       " 66.0    1560\n",
       " 0.0      682\n",
       " 96.0     487\n",
       " 65.0     391\n",
       "         ... \n",
       " 32.5       1\n",
       " 91.5       1\n",
       " 84.5       1\n",
       " 66.5       1\n",
       " 18.5       1\n",
       "Name: NumColCredAcceptTransfer, Length: 178, dtype: int64"
      ]
     },
     "execution_count": 1462,
     "metadata": {},
     "output_type": "execute_result"
    }
   ],
   "source": [
    "Student_Static_Data['NumColCredAcceptTransfer'].value_counts()"
   ]
  },
  {
   "cell_type": "code",
   "execution_count": 1463,
   "id": "48cbaa94",
   "metadata": {},
   "outputs": [],
   "source": [
    "#Fill the missing value of NumColCredAttemptTransfer as zero\n",
    "Student_Static_Data[['NumColCredAcceptTransfer']]=Student_Static_Data[['NumColCredAcceptTransfer']].replace(to_replace =-1,value =0)"
   ]
  },
  {
   "cell_type": "code",
   "execution_count": 1464,
   "id": "161f7844",
   "metadata": {},
   "outputs": [
    {
     "data": {
      "text/plain": [
       "-1    7809\n",
       "-2    5452\n",
       "Name: CumLoanAtEntry, dtype: int64"
      ]
     },
     "execution_count": 1464,
     "metadata": {},
     "output_type": "execute_result"
    }
   ],
   "source": [
    "Student_Static_Data['CumLoanAtEntry'].value_counts()"
   ]
  },
  {
   "cell_type": "code",
   "execution_count": 1465,
   "id": "eefbeee1",
   "metadata": {},
   "outputs": [],
   "source": [
    "#All values of CumLoanAtEntry are 0 or missing , so it has no effect on the analysis,drop this column\n",
    "Student_Static_Data=Student_Static_Data.drop(columns=['CumLoanAtEntry'])"
   ]
  },
  {
   "cell_type": "code",
   "execution_count": 1466,
   "id": "aabaafad",
   "metadata": {},
   "outputs": [
    {
     "data": {
      "text/plain": [
       " 0    8415\n",
       " 1    4275\n",
       "-1     571\n",
       "Name: MathPlacement, dtype: int64"
      ]
     },
     "execution_count": 1466,
     "metadata": {},
     "output_type": "execute_result"
    }
   ],
   "source": [
    "Student_Static_Data['MathPlacement'].value_counts()"
   ]
  },
  {
   "cell_type": "code",
   "execution_count": 1467,
   "id": "24a1a36f",
   "metadata": {},
   "outputs": [],
   "source": [
    "#Fill the missing value of MathPlacement as zero\n",
    "Student_Static_Data[['MathPlacement']]=Student_Static_Data[['MathPlacement']].replace(to_replace =-1,value =0)"
   ]
  },
  {
   "cell_type": "code",
   "execution_count": 1468,
   "id": "5f37e611",
   "metadata": {},
   "outputs": [
    {
     "data": {
      "text/plain": [
       " 0    9640\n",
       " 1    3050\n",
       "-1     571\n",
       "Name: EngPlacement, dtype: int64"
      ]
     },
     "execution_count": 1468,
     "metadata": {},
     "output_type": "execute_result"
    }
   ],
   "source": [
    "Student_Static_Data['EngPlacement'].value_counts()"
   ]
  },
  {
   "cell_type": "code",
   "execution_count": 1469,
   "id": "449f50dc",
   "metadata": {},
   "outputs": [],
   "source": [
    "#Fill the missing value of MathPlacement as zero\n",
    "Student_Static_Data[['EngPlacement']]=Student_Static_Data[['EngPlacement']].replace(to_replace =-1,value =0)"
   ]
  },
  {
   "cell_type": "markdown",
   "id": "e7571a25",
   "metadata": {},
   "source": [
    "### Make the different columns of Race to one column for simplicity of analysis"
   ]
  },
  {
   "cell_type": "code",
   "execution_count": 1470,
   "id": "7c3d43f7",
   "metadata": {
    "scrolled": true
   },
   "outputs": [],
   "source": [
    "Student_Static_Data.loc[Student_Static_Data['Hispanic'] == 1,'Race'] = 'Hispanic'"
   ]
  },
  {
   "cell_type": "code",
   "execution_count": 1471,
   "id": "376cf5de",
   "metadata": {},
   "outputs": [],
   "source": [
    "Student_Static_Data.loc[Student_Static_Data['AmericanIndian'] == 1,'Race'] = 'AmericanIndian'"
   ]
  },
  {
   "cell_type": "code",
   "execution_count": 1472,
   "id": "cdf4ea72",
   "metadata": {},
   "outputs": [],
   "source": [
    "Student_Static_Data.loc[Student_Static_Data['NativeHawaiian'] == 1,'Race'] = 'NativeHawaiian'"
   ]
  },
  {
   "cell_type": "code",
   "execution_count": 1473,
   "id": "2178d22a",
   "metadata": {},
   "outputs": [],
   "source": [
    "Student_Static_Data.loc[Student_Static_Data['Asian'] == 1,'Race'] = 'Asian'"
   ]
  },
  {
   "cell_type": "code",
   "execution_count": 1474,
   "id": "fdeabd3b",
   "metadata": {},
   "outputs": [],
   "source": [
    "Student_Static_Data.loc[Student_Static_Data['Black'] == 1,'Race'] = 'Black'"
   ]
  },
  {
   "cell_type": "code",
   "execution_count": 1475,
   "id": "7a874121",
   "metadata": {},
   "outputs": [],
   "source": [
    "Student_Static_Data.loc[Student_Static_Data['White'] == 1,'Race'] = 'White'"
   ]
  },
  {
   "cell_type": "code",
   "execution_count": 1476,
   "id": "e7c9dcee",
   "metadata": {},
   "outputs": [],
   "source": [
    "Student_Static_Data.loc[Student_Static_Data['TwoOrMoreRace'] == 1,'Race'] = 'TwoOrMoreRace'"
   ]
  },
  {
   "cell_type": "code",
   "execution_count": 1477,
   "id": "de713894",
   "metadata": {},
   "outputs": [],
   "source": [
    "#Fill one missing value of Race with Unknown\n",
    "Student_Static_Data[['Race']]=Student_Static_Data[['Race']].fillna('Unknown')"
   ]
  },
  {
   "cell_type": "code",
   "execution_count": 1478,
   "id": "9d64a4f6",
   "metadata": {},
   "outputs": [],
   "source": [
    "#Drop the Race Columns\n",
    "Student_Static_Data=Student_Static_Data.drop(columns=['Hispanic','AmericanIndian','Asian','Black','White','TwoOrMoreRace','NativeHawaiian'])"
   ]
  },
  {
   "cell_type": "code",
   "execution_count": 1479,
   "id": "6dc16f0c",
   "metadata": {},
   "outputs": [],
   "source": [
    "#Drop un wanted Columns\n",
    "Student_Static_Data=Student_Static_Data.drop(columns=['Address1','Address2','Zip','RegistrationDate','City','State'])"
   ]
  },
  {
   "cell_type": "code",
   "execution_count": 1480,
   "id": "e57887e3",
   "metadata": {},
   "outputs": [],
   "source": [
    "#import DropoutTrainLabels dataset\n",
    "DropoutTrainLabels = pd.read_csv('DropoutTrainLabels.csv')"
   ]
  },
  {
   "cell_type": "code",
   "execution_count": 1481,
   "id": "42dfa97e",
   "metadata": {},
   "outputs": [],
   "source": [
    "#merge the two datasets\n",
    "Student_Static_Data_to_model= pd.merge( Student_Static_Data,DropoutTrainLabels,on='StudentID')"
   ]
  },
  {
   "cell_type": "code",
   "execution_count": 1482,
   "id": "07008149",
   "metadata": {
    "scrolled": true
   },
   "outputs": [
    {
     "data": {
      "text/plain": [
       "0    7527\n",
       "1    4734\n",
       "Name: Dropout, dtype: int64"
      ]
     },
     "execution_count": 1482,
     "metadata": {},
     "output_type": "execute_result"
    }
   ],
   "source": [
    "Student_Static_Data_to_model['Dropout'].value_counts()"
   ]
  },
  {
   "cell_type": "code",
   "execution_count": 1483,
   "id": "ad9ab979",
   "metadata": {},
   "outputs": [
    {
     "name": "stdout",
     "output_type": "stream",
     "text": [
      "<class 'pandas.core.frame.DataFrame'>\n",
      "Int64Index: 12261 entries, 0 to 12260\n",
      "Data columns (total 19 columns):\n",
      " #   Column                     Non-Null Count  Dtype  \n",
      "---  ------                     --------------  -----  \n",
      " 0   StudentID                  12261 non-null  int64  \n",
      " 1   Cohort                     12261 non-null  object \n",
      " 2   CohortTerm                 12261 non-null  int64  \n",
      " 3   Gender                     12261 non-null  int64  \n",
      " 4   BirthYear                  12261 non-null  float64\n",
      " 5   BirthMonth                 12261 non-null  int64  \n",
      " 6   HSDip                      12261 non-null  int64  \n",
      " 7   HSDipYr                    12261 non-null  int64  \n",
      " 8   HSGPAUnwtd                 12261 non-null  float64\n",
      " 9   EnrollmentStatus           12261 non-null  int64  \n",
      " 10  NumColCredAttemptTransfer  12261 non-null  float64\n",
      " 11  NumColCredAcceptTransfer   12261 non-null  float64\n",
      " 12  HighDeg                    12261 non-null  int64  \n",
      " 13  MathPlacement              12261 non-null  int64  \n",
      " 14  EngPlacement               12261 non-null  int64  \n",
      " 15  GatewayMathStatus          12261 non-null  int64  \n",
      " 16  GatewayEnglishStatus       12261 non-null  int64  \n",
      " 17  Race                       12261 non-null  object \n",
      " 18  Dropout                    12261 non-null  int64  \n",
      "dtypes: float64(4), int64(13), object(2)\n",
      "memory usage: 1.9+ MB\n"
     ]
    }
   ],
   "source": [
    "Student_Static_Data_to_model.info()"
   ]
  },
  {
   "cell_type": "markdown",
   "id": "ce486c58",
   "metadata": {},
   "source": [
    "### create the Dummy Variables"
   ]
  },
  {
   "cell_type": "code",
   "execution_count": 1484,
   "id": "924df679",
   "metadata": {},
   "outputs": [],
   "source": [
    "Race_dummies = pd.get_dummies(Student_Static_Data_to_model.Race, prefix=\"Race\")"
   ]
  },
  {
   "cell_type": "code",
   "execution_count": 1485,
   "id": "9987f230",
   "metadata": {},
   "outputs": [],
   "source": [
    "df_with_dummies = pd.concat([Student_Static_Data_to_model,Race_dummies],axis='columns')"
   ]
  },
  {
   "cell_type": "code",
   "execution_count": 1486,
   "id": "316abc60",
   "metadata": {},
   "outputs": [],
   "source": [
    "df_with_dummies=df_with_dummies.drop(columns=['Race'])"
   ]
  },
  {
   "cell_type": "code",
   "execution_count": 1487,
   "id": "a58022d6",
   "metadata": {},
   "outputs": [],
   "source": [
    "df_with_dummies=df_with_dummies.drop(columns=['StudentID','Dropout','HSDip','Cohort'])"
   ]
  },
  {
   "cell_type": "code",
   "execution_count": 1488,
   "id": "5fcf471a",
   "metadata": {},
   "outputs": [],
   "source": [
    "X = df_with_dummies"
   ]
  },
  {
   "cell_type": "code",
   "execution_count": 1489,
   "id": "66b232f1",
   "metadata": {},
   "outputs": [],
   "source": [
    "y = Student_Static_Data_to_model.Dropout"
   ]
  },
  {
   "cell_type": "code",
   "execution_count": 1490,
   "id": "321ecec0",
   "metadata": {
    "scrolled": true
   },
   "outputs": [
    {
     "name": "stderr",
     "output_type": "stream",
     "text": [
      "C:\\Users\\G3fry\\mambaforge\\lib\\site-packages\\statsmodels\\tsa\\tsatools.py:142: FutureWarning: In a future version of pandas all arguments of concat except for the argument 'objs' will be keyword-only\n",
      "  x = pd.concat(x[::order], 1)\n"
     ]
    }
   ],
   "source": [
    "X = sm.add_constant(X)"
   ]
  },
  {
   "cell_type": "code",
   "execution_count": 1491,
   "id": "66fd2c38",
   "metadata": {
    "scrolled": true
   },
   "outputs": [
    {
     "name": "stdout",
     "output_type": "stream",
     "text": [
      "Optimization terminated successfully.\n",
      "         Current function value: 0.617833\n",
      "         Iterations 7\n"
     ]
    }
   ],
   "source": [
    "model=sm.Logit(y,X)\n",
    "result = model.fit(method='newton')"
   ]
  },
  {
   "cell_type": "code",
   "execution_count": 1492,
   "id": "e2359075",
   "metadata": {},
   "outputs": [
    {
     "name": "stdout",
     "output_type": "stream",
     "text": [
      "                           Logit Regression Results                           \n",
      "==============================================================================\n",
      "Dep. Variable:                Dropout   No. Observations:                12261\n",
      "Model:                          Logit   Df Residuals:                    12239\n",
      "Method:                           MLE   Df Model:                           21\n",
      "Date:                Thu, 08 Jul 2021   Pseudo R-squ.:                 0.07368\n",
      "Time:                        04:16:40   Log-Likelihood:                -7575.3\n",
      "converged:                       True   LL-Null:                       -8177.8\n",
      "Covariance Type:            nonrobust   LLR p-value:                5.028e-242\n",
      "=============================================================================================\n",
      "                                coef    std err          z      P>|z|      [0.025      0.975]\n",
      "---------------------------------------------------------------------------------------------\n",
      "const                        71.5662        nan        nan        nan         nan         nan\n",
      "CohortTerm                    0.2826      0.025     11.393      0.000       0.234       0.331\n",
      "Gender                       -0.1427      0.040     -3.548      0.000      -0.221      -0.064\n",
      "BirthYear                    -0.0396      0.003    -14.405      0.000      -0.045      -0.034\n",
      "BirthMonth                   -0.0095      0.006     -1.668      0.095      -0.021       0.002\n",
      "HSDipYr                    -9.22e-05   3.42e-05     -2.692      0.007      -0.000   -2.51e-05\n",
      "HSGPAUnwtd                   -0.2584      0.024    -10.921      0.000      -0.305      -0.212\n",
      "EnrollmentStatus             -1.4767      0.098    -15.053      0.000      -1.669      -1.284\n",
      "NumColCredAttemptTransfer     0.0043      0.001      4.748      0.000       0.003       0.006\n",
      "NumColCredAcceptTransfer     -0.0032      0.001     -2.321      0.020      -0.006      -0.000\n",
      "HighDeg                      -0.1471      0.027     -5.534      0.000      -0.199      -0.095\n",
      "MathPlacement                -0.3860      0.073     -5.270      0.000      -0.530      -0.242\n",
      "EngPlacement                  0.7090      0.072      9.868      0.000       0.568       0.850\n",
      "GatewayMathStatus            -0.1541      0.066     -2.338      0.019      -0.283      -0.025\n",
      "GatewayEnglishStatus         -0.3914      0.066     -5.925      0.000      -0.521      -0.262\n",
      "Race_AmericanIndian           8.7353        nan        nan        nan         nan         nan\n",
      "Race_Asian                    9.1145        nan        nan        nan         nan         nan\n",
      "Race_Black                    9.3952        nan        nan        nan         nan         nan\n",
      "Race_Hispanic                 9.2889        nan        nan        nan         nan         nan\n",
      "Race_NativeHawaiian           6.9669        nan        nan        nan         nan         nan\n",
      "Race_TwoOrMoreRace            9.4926        nan        nan        nan         nan         nan\n",
      "Race_Unknown                  9.3191        nan        nan        nan         nan         nan\n",
      "Race_White                    9.2538        nan        nan        nan         nan         nan\n",
      "=============================================================================================\n",
      "                              Results: Logit\n",
      "==========================================================================\n",
      "Model:                  Logit              Pseudo R-squared:   0.074      \n",
      "Dependent Variable:     Dropout            AIC:                15194.5104 \n",
      "Date:                   2021-07-08 04:16   BIC:                15357.6224 \n",
      "No. Observations:       12261              Log-Likelihood:     -7575.3    \n",
      "Df Model:               21                 LL-Null:            -8177.8    \n",
      "Df Residuals:           12239              LLR p-value:        5.0281e-242\n",
      "Converged:              1.0000             Scale:              1.0000     \n",
      "No. Iterations:         7.0000                                            \n",
      "--------------------------------------------------------------------------\n",
      "                           Coef.  Std.Err.    z     P>|z|   [0.025  0.975]\n",
      "--------------------------------------------------------------------------\n",
      "const                     71.5662      nan      nan    nan     nan     nan\n",
      "CohortTerm                 0.2826   0.0248  11.3928 0.0000  0.2340  0.3312\n",
      "Gender                    -0.1427   0.0402  -3.5476 0.0004 -0.2215 -0.0638\n",
      "BirthYear                 -0.0396   0.0027 -14.4048 0.0000 -0.0450 -0.0342\n",
      "BirthMonth                -0.0095   0.0057  -1.6681 0.0953 -0.0206  0.0017\n",
      "HSDipYr                   -0.0001   0.0000  -2.6923 0.0071 -0.0002 -0.0000\n",
      "HSGPAUnwtd                -0.2584   0.0237 -10.9210 0.0000 -0.3048 -0.2121\n",
      "EnrollmentStatus          -1.4767   0.0981 -15.0529 0.0000 -1.6690 -1.2844\n",
      "NumColCredAttemptTransfer  0.0043   0.0009   4.7482 0.0000  0.0025  0.0061\n",
      "NumColCredAcceptTransfer  -0.0032   0.0014  -2.3205 0.0203 -0.0059 -0.0005\n",
      "HighDeg                   -0.1471   0.0266  -5.5339 0.0000 -0.1992 -0.0950\n",
      "MathPlacement             -0.3860   0.0732  -5.2702 0.0000 -0.5295 -0.2424\n",
      "EngPlacement               0.7090   0.0718   9.8682 0.0000  0.5682  0.8498\n",
      "GatewayMathStatus         -0.1541   0.0659  -2.3380 0.0194 -0.2834 -0.0249\n",
      "GatewayEnglishStatus      -0.3914   0.0661  -5.9255 0.0000 -0.5209 -0.2619\n",
      "Race_AmericanIndian        8.7353      nan      nan    nan     nan     nan\n",
      "Race_Asian                 9.1145      nan      nan    nan     nan     nan\n",
      "Race_Black                 9.3952      nan      nan    nan     nan     nan\n",
      "Race_Hispanic              9.2889      nan      nan    nan     nan     nan\n",
      "Race_NativeHawaiian        6.9669      nan      nan    nan     nan     nan\n",
      "Race_TwoOrMoreRace         9.4926      nan      nan    nan     nan     nan\n",
      "Race_Unknown               9.3191      nan      nan    nan     nan     nan\n",
      "Race_White                 9.2538      nan      nan    nan     nan     nan\n",
      "==========================================================================\n",
      "\n"
     ]
    }
   ],
   "source": [
    "print(result.summary())\n",
    "print(result.summary2())"
   ]
  },
  {
   "cell_type": "code",
   "execution_count": 1493,
   "id": "bebcefa2",
   "metadata": {},
   "outputs": [
    {
     "name": "stderr",
     "output_type": "stream",
     "text": [
      "C:\\Users\\G3fry\\mambaforge\\lib\\site-packages\\sklearn\\linear_model\\_logistic.py:763: ConvergenceWarning: lbfgs failed to converge (status=1):\n",
      "STOP: TOTAL NO. of ITERATIONS REACHED LIMIT.\n",
      "\n",
      "Increase the number of iterations (max_iter) or scale the data as shown in:\n",
      "    https://scikit-learn.org/stable/modules/preprocessing.html\n",
      "Please also refer to the documentation for alternative solver options:\n",
      "    https://scikit-learn.org/stable/modules/linear_model.html#logistic-regression\n",
      "  n_iter_i = _check_optimize_result(\n"
     ]
    },
    {
     "data": {
      "text/plain": [
       "LogisticRegression()"
      ]
     },
     "execution_count": 1493,
     "metadata": {},
     "output_type": "execute_result"
    }
   ],
   "source": [
    "X_train, X_test, y_train, y_test = train_test_split(X, y, test_size=0.3, random_state=0)\n",
    "logreg = LogisticRegression()\n",
    "logreg.fit(X_train, y_train)"
   ]
  },
  {
   "cell_type": "code",
   "execution_count": 1494,
   "id": "0492f9db",
   "metadata": {},
   "outputs": [
    {
     "name": "stdout",
     "output_type": "stream",
     "text": [
      "Accuracy of logistic regression classifier on test set: 0.63\n"
     ]
    }
   ],
   "source": [
    "y_pred = logreg.predict(X_test)\n",
    "print('Accuracy of logistic regression classifier on test set: {:.2f}'.format(logreg.score(X_test, y_test)))"
   ]
  },
  {
   "cell_type": "markdown",
   "id": "bc57d2c2",
   "metadata": {},
   "source": [
    "#### Drop race column, It's P value is NAN"
   ]
  },
  {
   "cell_type": "code",
   "execution_count": 1497,
   "id": "65f96623",
   "metadata": {},
   "outputs": [],
   "source": [
    "X=X.drop(columns=['Race_AmericanIndian','Race_Asian','Race_Black','Race_Hispanic','Race_NativeHawaiian','Race_TwoOrMoreRace','Race_Unknown','Race_White'])"
   ]
  },
  {
   "cell_type": "code",
   "execution_count": 1499,
   "id": "1d4de95e",
   "metadata": {},
   "outputs": [
    {
     "name": "stderr",
     "output_type": "stream",
     "text": [
      "C:\\Users\\G3fry\\mambaforge\\lib\\site-packages\\statsmodels\\tsa\\tsatools.py:142: FutureWarning: In a future version of pandas all arguments of concat except for the argument 'objs' will be keyword-only\n",
      "  x = pd.concat(x[::order], 1)\n"
     ]
    }
   ],
   "source": [
    "X = sm.add_constant(X)"
   ]
  },
  {
   "cell_type": "code",
   "execution_count": 1500,
   "id": "8ee66ee7",
   "metadata": {},
   "outputs": [
    {
     "name": "stdout",
     "output_type": "stream",
     "text": [
      "Optimization terminated successfully.\n",
      "         Current function value: 0.618954\n",
      "         Iterations 5\n"
     ]
    }
   ],
   "source": [
    "model=sm.Logit(y,X)\n",
    "result = model.fit(method='newton')"
   ]
  },
  {
   "cell_type": "code",
   "execution_count": 1501,
   "id": "d4e06830",
   "metadata": {
    "scrolled": true
   },
   "outputs": [
    {
     "name": "stdout",
     "output_type": "stream",
     "text": [
      "                           Logit Regression Results                           \n",
      "==============================================================================\n",
      "Dep. Variable:                Dropout   No. Observations:                12261\n",
      "Model:                          Logit   Df Residuals:                    12246\n",
      "Method:                           MLE   Df Model:                           14\n",
      "Date:                Thu, 08 Jul 2021   Pseudo R-squ.:                 0.07199\n",
      "Time:                        04:25:02   Log-Likelihood:                -7589.0\n",
      "converged:                       True   LL-Null:                       -8177.8\n",
      "Covariance Type:            nonrobust   LLR p-value:                1.187e-242\n",
      "=============================================================================================\n",
      "                                coef    std err          z      P>|z|      [0.025      0.975]\n",
      "---------------------------------------------------------------------------------------------\n",
      "const                        82.3434      5.422     15.187      0.000      71.717      92.970\n",
      "CohortTerm                    0.2833      0.025     11.430      0.000       0.235       0.332\n",
      "Gender                       -0.1349      0.040     -3.369      0.001      -0.213      -0.056\n",
      "BirthYear                    -0.0404      0.003    -14.848      0.000      -0.046      -0.035\n",
      "BirthMonth                   -0.0093      0.006     -1.642      0.101      -0.020       0.002\n",
      "HSDipYr                   -9.041e-05   3.41e-05     -2.648      0.008      -0.000   -2.35e-05\n",
      "HSGPAUnwtd                   -0.2615      0.024    -11.073      0.000      -0.308      -0.215\n",
      "EnrollmentStatus             -1.4798      0.098    -15.150      0.000      -1.671      -1.288\n",
      "NumColCredAttemptTransfer     0.0044      0.001      4.862      0.000       0.003       0.006\n",
      "NumColCredAcceptTransfer     -0.0033      0.001     -2.407      0.016      -0.006      -0.001\n",
      "HighDeg                      -0.1443      0.026     -5.448      0.000      -0.196      -0.092\n",
      "MathPlacement                -0.3636      0.073     -5.007      0.000      -0.506      -0.221\n",
      "EngPlacement                  0.7072      0.072      9.885      0.000       0.567       0.847\n",
      "GatewayMathStatus            -0.1527      0.066     -2.322      0.020      -0.282      -0.024\n",
      "GatewayEnglishStatus         -0.3907      0.066     -5.925      0.000      -0.520      -0.261\n",
      "=============================================================================================\n",
      "                              Results: Logit\n",
      "==========================================================================\n",
      "Model:                  Logit              Pseudo R-squared:   0.072      \n",
      "Dependent Variable:     Dropout            AIC:                15207.9957 \n",
      "Date:                   2021-07-08 04:25   BIC:                15319.2084 \n",
      "No. Observations:       12261              Log-Likelihood:     -7589.0    \n",
      "Df Model:               14                 LL-Null:            -8177.8    \n",
      "Df Residuals:           12246              LLR p-value:        1.1867e-242\n",
      "Converged:              1.0000             Scale:              1.0000     \n",
      "No. Iterations:         5.0000                                            \n",
      "--------------------------------------------------------------------------\n",
      "                           Coef.  Std.Err.    z     P>|z|   [0.025  0.975]\n",
      "--------------------------------------------------------------------------\n",
      "const                     82.3434   5.4219  15.1873 0.0000 71.7167 92.9701\n",
      "CohortTerm                 0.2833   0.0248  11.4295 0.0000  0.2347  0.3318\n",
      "Gender                    -0.1349   0.0400  -3.3685 0.0008 -0.2134 -0.0564\n",
      "BirthYear                 -0.0404   0.0027 -14.8480 0.0000 -0.0457 -0.0350\n",
      "BirthMonth                -0.0093   0.0057  -1.6415 0.1007 -0.0204  0.0018\n",
      "HSDipYr                   -0.0001   0.0000  -2.6481 0.0081 -0.0002 -0.0000\n",
      "HSGPAUnwtd                -0.2615   0.0236 -11.0729 0.0000 -0.3077 -0.2152\n",
      "EnrollmentStatus          -1.4798   0.0977 -15.1501 0.0000 -1.6712 -1.2883\n",
      "NumColCredAttemptTransfer  0.0044   0.0009   4.8624 0.0000  0.0026  0.0062\n",
      "NumColCredAcceptTransfer  -0.0033   0.0014  -2.4075 0.0161 -0.0060 -0.0006\n",
      "HighDeg                   -0.1443   0.0265  -5.4480 0.0000 -0.1962 -0.0924\n",
      "MathPlacement             -0.3636   0.0726  -5.0070 0.0000 -0.5060 -0.2213\n",
      "EngPlacement               0.7072   0.0715   9.8846 0.0000  0.5670  0.8475\n",
      "GatewayMathStatus         -0.1527   0.0658  -2.3219 0.0202 -0.2816 -0.0238\n",
      "GatewayEnglishStatus      -0.3907   0.0659  -5.9250 0.0000 -0.5200 -0.2615\n",
      "==========================================================================\n",
      "\n"
     ]
    }
   ],
   "source": [
    "print(result.summary())\n",
    "print(result.summary2())"
   ]
  },
  {
   "cell_type": "code",
   "execution_count": 1507,
   "id": "858b3ce7",
   "metadata": {
    "scrolled": true
   },
   "outputs": [
    {
     "name": "stdout",
     "output_type": "stream",
     "text": [
      "Accuracy of logistic regression classifier on test set: 0.65\n"
     ]
    }
   ],
   "source": [
    "X_train, X_test, y_train, y_test = train_test_split(X, y, test_size=0.2, random_state=0)\n",
    "logreg = LogisticRegression(solver='lbfgs', max_iter=6000)\n",
    "logreg.fit(X_train, y_train)\n",
    "y_pred = logreg.predict(X_test)\n",
    "print('Accuracy of logistic regression classifier on test set: {:.2f}'.format(logreg.score(X_test, y_test)))"
   ]
  },
  {
   "cell_type": "markdown",
   "id": "b67dcdb8",
   "metadata": {},
   "source": [
    "## Student Progress Data"
   ]
  },
  {
   "cell_type": "code",
   "execution_count": 1651,
   "id": "b1602829",
   "metadata": {},
   "outputs": [],
   "source": [
    "#Import the datasets \n",
    "df1 = pd.read_csv('Student Progress Data/Fall 2011_SP.csv')\n",
    "df2 = pd.read_csv('Student Progress Data/Fall 2012_SP.csv')\n",
    "df3 = pd.read_csv('Student Progress Data/Fall 2013_SP.csv')\n",
    "df4 = pd.read_csv('Student Progress Data/Fall 2014_SP.csv')\n",
    "df5 = pd.read_csv('Student Progress Data/Fall 2015_SP.csv')\n",
    "df6 = pd.read_csv('Student Progress Data/Fall 2016_SP.csv')\n",
    "df7 = pd.read_csv('Student Progress Data/Spring 2012_SP.csv')\n",
    "df8 = pd.read_csv('Student Progress Data/Spring 2013_SP.csv')\n",
    "df9 = pd.read_csv('Student Progress Data/Spring 2014_SP.csv')\n",
    "df11 = pd.read_csv('Student Progress Data/Spring 2015_SP.csv')\n",
    "df12 = pd.read_csv('Student Progress Data/Spring 2016_SP.csv')\n",
    "df13 = pd.read_csv('Student Progress Data/Spring 2017_SP.csv')\n",
    "df14 = pd.read_csv('Student Progress Data/Sum 2012.csv')\n",
    "df15 = pd.read_csv('Student Progress Data/Sum 2013.csv')\n",
    "df16 = pd.read_csv('Student Progress Data/Sum 2014.csv')\n",
    "df17 = pd.read_csv('Student Progress Data/Sum 2015.csv')\n",
    "df18 = pd.read_csv('Student Progress Data/Sum 2016.csv')\n",
    "df19 = pd.read_csv('Student Progress Data/Sum 2017.csv')"
   ]
  },
  {
   "cell_type": "code",
   "execution_count": 1652,
   "id": "fc7849fd",
   "metadata": {},
   "outputs": [],
   "source": [
    "frames = [df1, df2, df3,df4,df5,df6,df7,df8,df9,df11,df12,df13,df14,df15,df16,df17,df18,df19]"
   ]
  },
  {
   "cell_type": "code",
   "execution_count": 1653,
   "id": "c619d808",
   "metadata": {},
   "outputs": [],
   "source": [
    "Student_Progress_Data = pd.concat(frames)"
   ]
  },
  {
   "cell_type": "code",
   "execution_count": 1654,
   "id": "6b52945e",
   "metadata": {},
   "outputs": [
    {
     "name": "stdout",
     "output_type": "stream",
     "text": [
      "<class 'pandas.core.frame.DataFrame'>\n",
      "Int64Index: 57945 entries, 0 to 1218\n",
      "Data columns (total 17 columns):\n",
      " #   Column              Non-Null Count  Dtype  \n",
      "---  ------              --------------  -----  \n",
      " 0   StudentID           57945 non-null  int64  \n",
      " 1   Cohort              57945 non-null  object \n",
      " 2   CohortTerm          57945 non-null  int64  \n",
      " 3   Term                57945 non-null  int64  \n",
      " 4   AcademicYear        57945 non-null  object \n",
      " 5   CompleteDevMath     57945 non-null  int64  \n",
      " 6   CompleteDevEnglish  57945 non-null  int64  \n",
      " 7   Major1              57945 non-null  float64\n",
      " 8   Major2              57945 non-null  float64\n",
      " 9   Complete1           57945 non-null  int64  \n",
      " 10  Complete2           57945 non-null  int64  \n",
      " 11  CompleteCIP1        57945 non-null  float64\n",
      " 12  CompleteCIP2        57945 non-null  int64  \n",
      " 13  TransferIntent      57945 non-null  int64  \n",
      " 14  DegreeTypeSought    57945 non-null  int64  \n",
      " 15  TermGPA             57945 non-null  float64\n",
      " 16  CumGPA              57945 non-null  float64\n",
      "dtypes: float64(5), int64(10), object(2)\n",
      "memory usage: 8.0+ MB\n"
     ]
    }
   ],
   "source": [
    "Student_Progress_Data.info()"
   ]
  },
  {
   "cell_type": "code",
   "execution_count": 1655,
   "id": "636f0cfa",
   "metadata": {},
   "outputs": [],
   "source": [
    "Student_Progress_Data=Student_Progress_Data.drop_duplicates(subset=['StudentID'])"
   ]
  },
  {
   "cell_type": "code",
   "execution_count": 1656,
   "id": "95905c84",
   "metadata": {},
   "outputs": [],
   "source": [
    "#import DropoutTrainLabels dataset\n",
    "DropoutTrainLabels = pd.read_csv('DropoutTrainLabels.csv')"
   ]
  },
  {
   "cell_type": "code",
   "execution_count": 1657,
   "id": "616727c1",
   "metadata": {},
   "outputs": [],
   "source": [
    "#merge the two datasets\n",
    "Student_Progress_Data_to_model= pd.merge( Student_Progress_Data,DropoutTrainLabels,on='StudentID')"
   ]
  },
  {
   "cell_type": "code",
   "execution_count": 1658,
   "id": "4bfdbd5c",
   "metadata": {},
   "outputs": [],
   "source": [
    "Student_Progress_Data_stastics=Student_Progress_Data_to_model[['TermGPA','CumGPA','CompleteCIP1','CompleteCIP2']]"
   ]
  },
  {
   "cell_type": "code",
   "execution_count": 1659,
   "id": "8974c823",
   "metadata": {},
   "outputs": [
    {
     "data": {
      "text/html": [
       "<div>\n",
       "<style scoped>\n",
       "    .dataframe tbody tr th:only-of-type {\n",
       "        vertical-align: middle;\n",
       "    }\n",
       "\n",
       "    .dataframe tbody tr th {\n",
       "        vertical-align: top;\n",
       "    }\n",
       "\n",
       "    .dataframe thead th {\n",
       "        text-align: right;\n",
       "    }\n",
       "</style>\n",
       "<table border=\"1\" class=\"dataframe\">\n",
       "  <thead>\n",
       "    <tr style=\"text-align: right;\">\n",
       "      <th></th>\n",
       "      <th>TermGPA</th>\n",
       "      <th>CumGPA</th>\n",
       "      <th>CompleteCIP1</th>\n",
       "      <th>CompleteCIP2</th>\n",
       "    </tr>\n",
       "  </thead>\n",
       "  <tbody>\n",
       "    <tr>\n",
       "      <th>count</th>\n",
       "      <td>12261.000000</td>\n",
       "      <td>12261.000000</td>\n",
       "      <td>12261.000000</td>\n",
       "      <td>12261.0</td>\n",
       "    </tr>\n",
       "    <tr>\n",
       "      <th>mean</th>\n",
       "      <td>2.857813</td>\n",
       "      <td>2.853022</td>\n",
       "      <td>-1.960287</td>\n",
       "      <td>-2.0</td>\n",
       "    </tr>\n",
       "    <tr>\n",
       "      <th>std</th>\n",
       "      <td>1.102113</td>\n",
       "      <td>1.077837</td>\n",
       "      <td>1.365114</td>\n",
       "      <td>0.0</td>\n",
       "    </tr>\n",
       "    <tr>\n",
       "      <th>min</th>\n",
       "      <td>0.000000</td>\n",
       "      <td>0.000000</td>\n",
       "      <td>-2.000000</td>\n",
       "      <td>-2.0</td>\n",
       "    </tr>\n",
       "    <tr>\n",
       "      <th>25%</th>\n",
       "      <td>2.430000</td>\n",
       "      <td>2.420000</td>\n",
       "      <td>-2.000000</td>\n",
       "      <td>-2.0</td>\n",
       "    </tr>\n",
       "    <tr>\n",
       "      <th>50%</th>\n",
       "      <td>3.180000</td>\n",
       "      <td>3.170000</td>\n",
       "      <td>-2.000000</td>\n",
       "      <td>-2.0</td>\n",
       "    </tr>\n",
       "    <tr>\n",
       "      <th>75%</th>\n",
       "      <td>3.680000</td>\n",
       "      <td>3.660000</td>\n",
       "      <td>-2.000000</td>\n",
       "      <td>-2.0</td>\n",
       "    </tr>\n",
       "    <tr>\n",
       "      <th>max</th>\n",
       "      <td>4.000000</td>\n",
       "      <td>4.000000</td>\n",
       "      <td>52.140100</td>\n",
       "      <td>-2.0</td>\n",
       "    </tr>\n",
       "  </tbody>\n",
       "</table>\n",
       "</div>"
      ],
      "text/plain": [
       "            TermGPA        CumGPA  CompleteCIP1  CompleteCIP2\n",
       "count  12261.000000  12261.000000  12261.000000       12261.0\n",
       "mean       2.857813      2.853022     -1.960287          -2.0\n",
       "std        1.102113      1.077837      1.365114           0.0\n",
       "min        0.000000      0.000000     -2.000000          -2.0\n",
       "25%        2.430000      2.420000     -2.000000          -2.0\n",
       "50%        3.180000      3.170000     -2.000000          -2.0\n",
       "75%        3.680000      3.660000     -2.000000          -2.0\n",
       "max        4.000000      4.000000     52.140100          -2.0"
      ]
     },
     "execution_count": 1659,
     "metadata": {},
     "output_type": "execute_result"
    }
   ],
   "source": [
    "Student_Progress_Data_stastics.describe()"
   ]
  },
  {
   "cell_type": "markdown",
   "id": "fb710b8c",
   "metadata": {},
   "source": [
    "### Data Cleaning for Student Progress Data"
   ]
  },
  {
   "cell_type": "code",
   "execution_count": 1660,
   "id": "92305a1c",
   "metadata": {},
   "outputs": [
    {
     "data": {
      "text/plain": [
       "-1.0000     12036\n",
       " 13.1209       84\n",
       " 13.1202       38\n",
       " 13.1001       24\n",
       " 43.0199       10\n",
       " 52.1401       10\n",
       " 45.1101        9\n",
       " 52.0201        8\n",
       " 50.0701        7\n",
       " 43.0399        5\n",
       " 42.0101        5\n",
       " 52.0801        5\n",
       " 27.0101        4\n",
       " 52.0301        3\n",
       " 54.0101        2\n",
       " 11.0101        2\n",
       " 40.0501        2\n",
       " 40.0801        2\n",
       " 45.0601        2\n",
       " 50.0901        1\n",
       " 45.1001        1\n",
       " 38.0101        1\n",
       "Name: Major2, dtype: int64"
      ]
     },
     "execution_count": 1660,
     "metadata": {},
     "output_type": "execute_result"
    }
   ],
   "source": [
    "Student_Progress_Data_to_model['Major2'].value_counts()"
   ]
  },
  {
   "cell_type": "code",
   "execution_count": 1661,
   "id": "561065f6",
   "metadata": {},
   "outputs": [],
   "source": [
    "#most of major2 is -1(missing),drop this column\n",
    "Student_Progress_Data_to_model=Student_Progress_Data_to_model.drop(columns=['Major2'])"
   ]
  },
  {
   "cell_type": "code",
   "execution_count": 1662,
   "id": "38b9878b",
   "metadata": {},
   "outputs": [
    {
     "data": {
      "text/plain": [
       "0    12261\n",
       "Name: Complete2, dtype: int64"
      ]
     },
     "execution_count": 1662,
     "metadata": {},
     "output_type": "execute_result"
    }
   ],
   "source": [
    "Student_Progress_Data_to_model['Complete2'].value_counts()"
   ]
  },
  {
   "cell_type": "code",
   "execution_count": 1663,
   "id": "46c0e9a3",
   "metadata": {},
   "outputs": [],
   "source": [
    "#All complete2 is 0,drop this column\n",
    "Student_Progress_Data_to_model=Student_Progress_Data_to_model.drop(columns=['Complete2'])"
   ]
  },
  {
   "cell_type": "code",
   "execution_count": 1664,
   "id": "6028bca4",
   "metadata": {},
   "outputs": [
    {
     "data": {
      "text/plain": [
       "-2.0000     12250\n",
       " 43.0399        2\n",
       " 43.0199        1\n",
       " 52.0801        1\n",
       " 51.0000        1\n",
       " 16.0905        1\n",
       " 26.0101        1\n",
       " 51.3801        1\n",
       " 52.1401        1\n",
       " 45.1101        1\n",
       " 42.0101        1\n",
       "Name: CompleteCIP1, dtype: int64"
      ]
     },
     "execution_count": 1664,
     "metadata": {},
     "output_type": "execute_result"
    }
   ],
   "source": [
    "Student_Progress_Data_to_model['CompleteCIP1'].value_counts()"
   ]
  },
  {
   "cell_type": "code",
   "execution_count": 1665,
   "id": "2da9306f",
   "metadata": {},
   "outputs": [],
   "source": [
    "#Most of CompleteCIP1 is -2,drop this column\n",
    "Student_Progress_Data_to_model=Student_Progress_Data_to_model.drop(columns=['CompleteCIP1'])"
   ]
  },
  {
   "cell_type": "code",
   "execution_count": 1666,
   "id": "b0f7216b",
   "metadata": {},
   "outputs": [
    {
     "data": {
      "text/plain": [
       "6    12261\n",
       "Name: DegreeTypeSought, dtype: int64"
      ]
     },
     "execution_count": 1666,
     "metadata": {},
     "output_type": "execute_result"
    }
   ],
   "source": [
    "Student_Progress_Data_to_model['DegreeTypeSought'].value_counts()"
   ]
  },
  {
   "cell_type": "code",
   "execution_count": 1667,
   "id": "ba3b1ca1",
   "metadata": {},
   "outputs": [],
   "source": [
    "#All the students are bachelor's degree,drop this column\n",
    "Student_Progress_Data_to_model=Student_Progress_Data_to_model.drop(columns=['DegreeTypeSought'])"
   ]
  },
  {
   "cell_type": "code",
   "execution_count": 1668,
   "id": "09aa4600",
   "metadata": {},
   "outputs": [
    {
     "data": {
      "text/plain": [
       "-1    12261\n",
       "Name: TransferIntent, dtype: int64"
      ]
     },
     "execution_count": 1668,
     "metadata": {},
     "output_type": "execute_result"
    }
   ],
   "source": [
    "Student_Progress_Data_to_model['TransferIntent'].value_counts()"
   ]
  },
  {
   "cell_type": "code",
   "execution_count": 1669,
   "id": "2a2d25eb",
   "metadata": {},
   "outputs": [],
   "source": [
    "#All the TransferIntent are -1,drop this column\n",
    "Student_Progress_Data_to_model=Student_Progress_Data_to_model.drop(columns=['TransferIntent'])"
   ]
  },
  {
   "cell_type": "markdown",
   "id": "65a615ea",
   "metadata": {},
   "source": [
    "### create the Dummy Variables"
   ]
  },
  {
   "cell_type": "code",
   "execution_count": 1670,
   "id": "36dcaa77",
   "metadata": {},
   "outputs": [],
   "source": [
    "Cohort_dummies = pd.get_dummies(Student_Progress_Data_to_model.Cohort, prefix=\"Cohort\")"
   ]
  },
  {
   "cell_type": "code",
   "execution_count": 1671,
   "id": "93234ea9",
   "metadata": {},
   "outputs": [],
   "source": [
    "df_with_dummies = pd.concat([Student_Progress_Data_to_model,Cohort_dummies],axis='columns')"
   ]
  },
  {
   "cell_type": "code",
   "execution_count": 1672,
   "id": "d1989840",
   "metadata": {},
   "outputs": [],
   "source": [
    "df_with_dummies=df_with_dummies.drop(columns=['Cohort'])"
   ]
  },
  {
   "cell_type": "code",
   "execution_count": 1673,
   "id": "6038c21b",
   "metadata": {},
   "outputs": [],
   "source": [
    "AcademicYear_dummies = pd.get_dummies(df_with_dummies.AcademicYear, prefix=\"AcademicYear\")"
   ]
  },
  {
   "cell_type": "code",
   "execution_count": 1674,
   "id": "4616fcd5",
   "metadata": {},
   "outputs": [],
   "source": [
    "df_with_dummies = pd.concat([df_with_dummies,AcademicYear_dummies],axis='columns')"
   ]
  },
  {
   "cell_type": "code",
   "execution_count": 1675,
   "id": "50a70072",
   "metadata": {},
   "outputs": [],
   "source": [
    "df_with_dummies=df_with_dummies.drop(columns=['AcademicYear'])"
   ]
  },
  {
   "cell_type": "code",
   "execution_count": 1677,
   "id": "0db098f9",
   "metadata": {},
   "outputs": [],
   "source": [
    "y = df_with_dummies.Dropout"
   ]
  },
  {
   "cell_type": "code",
   "execution_count": 1678,
   "id": "b55913c0",
   "metadata": {},
   "outputs": [],
   "source": [
    "df_with_dummies=df_with_dummies.drop(columns=['StudentID','Dropout','CompleteDevMath','CompleteDevEnglish','CohortTerm','Term','Complete1','Major1'])"
   ]
  },
  {
   "cell_type": "code",
   "execution_count": 1679,
   "id": "6245a613",
   "metadata": {},
   "outputs": [],
   "source": [
    "X = df_with_dummies"
   ]
  },
  {
   "cell_type": "code",
   "execution_count": 1680,
   "id": "4279a4ed",
   "metadata": {},
   "outputs": [
    {
     "name": "stderr",
     "output_type": "stream",
     "text": [
      "C:\\Users\\G3fry\\mambaforge\\lib\\site-packages\\statsmodels\\tsa\\tsatools.py:142: FutureWarning: In a future version of pandas all arguments of concat except for the argument 'objs' will be keyword-only\n",
      "  x = pd.concat(x[::order], 1)\n"
     ]
    }
   ],
   "source": [
    "X = sm.add_constant(X)"
   ]
  },
  {
   "cell_type": "code",
   "execution_count": 1681,
   "id": "020ecbbd",
   "metadata": {},
   "outputs": [
    {
     "name": "stdout",
     "output_type": "stream",
     "text": [
      "Optimization terminated successfully.\n",
      "         Current function value: 0.504799\n",
      "         Iterations 34\n"
     ]
    }
   ],
   "source": [
    "model=sm.Logit(y,X)\n",
    "result = model.fit(method='newton')"
   ]
  },
  {
   "cell_type": "code",
   "execution_count": 1683,
   "id": "00fb70ac",
   "metadata": {},
   "outputs": [
    {
     "name": "stdout",
     "output_type": "stream",
     "text": [
      "                           Logit Regression Results                           \n",
      "==============================================================================\n",
      "Dep. Variable:                Dropout   No. Observations:                12261\n",
      "Model:                          Logit   Df Residuals:                    12248\n",
      "Method:                           MLE   Df Model:                           12\n",
      "Date:                Thu, 08 Jul 2021   Pseudo R-squ.:                  0.2431\n",
      "Time:                        18:25:15   Log-Likelihood:                -6189.3\n",
      "converged:                       True   LL-Null:                       -8177.8\n",
      "Covariance Type:            nonrobust   LLR p-value:                     0.000\n",
      "========================================================================================\n",
      "                           coef    std err          z      P>|z|      [0.025      0.975]\n",
      "----------------------------------------------------------------------------------------\n",
      "CompleteCIP2             7.4421   2.46e+07   3.02e-07      1.000   -4.82e+07    4.82e+07\n",
      "TermGPA                 -0.5627      0.069     -8.192      0.000      -0.697      -0.428\n",
      "CumGPA                  -0.2284      0.070     -3.256      0.001      -0.366      -0.091\n",
      "Cohort_2011-12          17.0026   2.01e+07   8.46e-07      1.000   -3.94e+07    3.94e+07\n",
      "Cohort_2012-13          17.2440   2.02e+07   8.54e-07      1.000   -3.96e+07    3.96e+07\n",
      "Cohort_2013-14          17.3816   2.03e+07   8.56e-07      1.000   -3.98e+07    3.98e+07\n",
      "Cohort_2014-15          17.6090   2.04e+07   8.65e-07      1.000   -3.99e+07    3.99e+07\n",
      "Cohort_2015-16          17.2172   2.03e+07   8.48e-07      1.000   -3.98e+07    3.98e+07\n",
      "Cohort_2016-17         -90.1754   4.18e+22  -2.16e-21      1.000   -8.18e+22    8.18e+22\n",
      "AcademicYear_2011-12     0.5114   6.98e+07   7.32e-09      1.000   -1.37e+08    1.37e+08\n",
      "AcademicYear_2012-13     0.1034   6.98e+07   1.48e-09      1.000   -1.37e+08    1.37e+08\n",
      "AcademicYear_2013-14    -0.2015   6.98e+07  -2.89e-09      1.000   -1.37e+08    1.37e+08\n",
      "AcademicYear_2014-15    -0.5332   6.98e+07  -7.64e-09      1.000   -1.37e+08    1.37e+08\n",
      "AcademicYear_2015-16    -0.9555   6.98e+07  -1.37e-08      1.000   -1.37e+08    1.37e+08\n",
      "AcademicYear_2016-17    -2.6456   6.98e+07  -3.79e-08      1.000   -1.37e+08    1.37e+08\n",
      "========================================================================================\n",
      "\n",
      "Possibly complete quasi-separation: A fraction 0.15 of observations can be\n",
      "perfectly predicted. This might indicate that there is complete\n",
      "quasi-separation. In this case some parameters will not be identified.\n",
      "                                                           Results: Logit\n",
      "====================================================================================================================================\n",
      "Model:                                     Logit                                  Pseudo R-squared:                       0.243     \n",
      "Dependent Variable:                        Dropout                                AIC:                                    12404.6830\n",
      "Date:                                      2021-07-08 18:25                       BIC:                                    12501.0673\n",
      "No. Observations:                          12261                                  Log-Likelihood:                         -6189.3   \n",
      "Df Model:                                  12                                     LL-Null:                                -8177.8   \n",
      "Df Residuals:                              12248                                  LLR p-value:                            0.0000    \n",
      "Converged:                                 1.0000                                 Scale:                                  1.0000    \n",
      "No. Iterations:                            34.0000                                                                                  \n",
      "------------------------------------------------------------------------------------------------------------------------------------\n",
      "                      Coef.             Std.Err.              z    P>|z|              [0.025                       0.975]           \n",
      "------------------------------------------------------------------------------------------------------------------------------------\n",
      "CompleteCIP2           7.4421                24604196.6141  0.0000 1.0000                -48223331.7901                48223346.6743\n",
      "TermGPA               -0.5627                       0.0687 -8.1923 0.0000                       -0.6973                      -0.4281\n",
      "CumGPA                -0.2284                       0.0701 -3.2561 0.0011                       -0.3658                      -0.0909\n",
      "Cohort_2011-12        17.0026                20098598.4910  0.0000 1.0000                -39392512.1795                39392546.1847\n",
      "Cohort_2012-13        17.2440                20186635.6881  0.0000 1.0000                -39565061.6737                39565096.1617\n",
      "Cohort_2013-14        17.3816                20317015.0496  0.0000 1.0000                -39820600.3890                39820635.1522\n",
      "Cohort_2014-15        17.6090                20364462.3551  0.0000 1.0000                -39913595.1715                39913630.3895\n",
      "Cohort_2015-16        17.2172                20305680.2774  0.0000 1.0000                -39798384.8081                39798419.2425\n",
      "Cohort_2016-17       -90.1754 41754282443836235972608.0000 -0.0000 1.0000 -81836889790232097980416.0000 81836889790232097980416.0000\n",
      "AcademicYear_2011-12   0.5114                69830626.6233  0.0000 1.0000               -136865512.6882               136865513.7109\n",
      "AcademicYear_2012-13   0.1034                69830626.6233  0.0000 1.0000               -136865513.0962               136865513.3030\n",
      "AcademicYear_2013-14  -0.2015                69830626.6233 -0.0000 1.0000               -136865513.4011               136865512.9980\n",
      "AcademicYear_2014-15  -0.5332                69830626.6233 -0.0000 1.0000               -136865513.7328               136865512.6664\n",
      "AcademicYear_2015-16  -0.9555                69830626.6233 -0.0000 1.0000               -136865514.1551               136865512.2441\n",
      "AcademicYear_2016-17  -2.6456                69830626.6233 -0.0000 1.0000               -136865515.8452               136865510.5540\n",
      "====================================================================================================================================\n",
      "\n"
     ]
    }
   ],
   "source": [
    "print(result.summary())\n",
    "print(result.summary2())"
   ]
  },
  {
   "cell_type": "code",
   "execution_count": 1684,
   "id": "2883cc37",
   "metadata": {},
   "outputs": [
    {
     "name": "stdout",
     "output_type": "stream",
     "text": [
      "Accuracy of logistic regression classifier on test set: 0.71\n"
     ]
    }
   ],
   "source": [
    "X_train, X_test, y_train, y_test = train_test_split(X, y, test_size=0.2, random_state=0)\n",
    "logreg = LogisticRegression(solver='lbfgs', max_iter=6000)\n",
    "logreg.fit(X_train, y_train)\n",
    "y_pred = logreg.predict(X_test)\n",
    "print('Accuracy of logistic regression classifier on test set: {:.2f}'.format(logreg.score(X_test, y_test)))"
   ]
  },
  {
   "cell_type": "markdown",
   "id": "2398333f",
   "metadata": {},
   "source": [
    "### Drop cohort and academic year, it's p value is High"
   ]
  },
  {
   "cell_type": "code",
   "execution_count": 1686,
   "id": "a1e6f2cb",
   "metadata": {},
   "outputs": [],
   "source": [
    "X=X.drop(columns=['Cohort_2011-12','Cohort_2012-13','Cohort_2013-14','Cohort_2014-15','Cohort_2015-16','Cohort_2016-17','AcademicYear_2011-12','AcademicYear_2012-13','AcademicYear_2013-14','AcademicYear_2014-15','AcademicYear_2015-16','AcademicYear_2016-17'])"
   ]
  },
  {
   "cell_type": "code",
   "execution_count": 1687,
   "id": "16eb6f5e",
   "metadata": {},
   "outputs": [
    {
     "name": "stderr",
     "output_type": "stream",
     "text": [
      "C:\\Users\\G3fry\\mambaforge\\lib\\site-packages\\statsmodels\\tsa\\tsatools.py:142: FutureWarning: In a future version of pandas all arguments of concat except for the argument 'objs' will be keyword-only\n",
      "  x = pd.concat(x[::order], 1)\n"
     ]
    }
   ],
   "source": [
    "X = sm.add_constant(X)"
   ]
  },
  {
   "cell_type": "code",
   "execution_count": 1688,
   "id": "b43b2e36",
   "metadata": {},
   "outputs": [
    {
     "name": "stdout",
     "output_type": "stream",
     "text": [
      "Optimization terminated successfully.\n",
      "         Current function value: 0.621915\n",
      "         Iterations 5\n"
     ]
    }
   ],
   "source": [
    "model=sm.Logit(y,X)\n",
    "result = model.fit(method='newton')"
   ]
  },
  {
   "cell_type": "code",
   "execution_count": 1689,
   "id": "afdb3b3c",
   "metadata": {},
   "outputs": [
    {
     "name": "stdout",
     "output_type": "stream",
     "text": [
      "                           Logit Regression Results                           \n",
      "==============================================================================\n",
      "Dep. Variable:                Dropout   No. Observations:                12261\n",
      "Model:                          Logit   Df Residuals:                    12258\n",
      "Method:                           MLE   Df Model:                            2\n",
      "Date:                Thu, 08 Jul 2021   Pseudo R-squ.:                 0.06756\n",
      "Time:                        18:35:20   Log-Likelihood:                -7625.3\n",
      "converged:                       True   LL-Null:                       -8177.8\n",
      "Covariance Type:            nonrobust   LLR p-value:                1.185e-240\n",
      "================================================================================\n",
      "                   coef    std err          z      P>|z|      [0.025      0.975]\n",
      "--------------------------------------------------------------------------------\n",
      "CompleteCIP2    -0.5975      0.028    -21.012      0.000      -0.653      -0.542\n",
      "TermGPA         -0.3683      0.060     -6.130      0.000      -0.486      -0.251\n",
      "CumGPA          -0.2197      0.061     -3.575      0.000      -0.340      -0.099\n",
      "================================================================================\n",
      "                          Results: Logit\n",
      "==================================================================\n",
      "Model:              Logit            Pseudo R-squared: 0.068      \n",
      "Dependent Variable: Dropout          AIC:              15256.6019 \n",
      "Date:               2021-07-08 18:35 BIC:              15278.8445 \n",
      "No. Observations:   12261            Log-Likelihood:   -7625.3    \n",
      "Df Model:           2                LL-Null:          -8177.8    \n",
      "Df Residuals:       12258            LLR p-value:      1.1854e-240\n",
      "Converged:          1.0000           Scale:            1.0000     \n",
      "No. Iterations:     5.0000                                        \n",
      "-------------------------------------------------------------------\n",
      "               Coef.   Std.Err.     z      P>|z|    [0.025   0.975]\n",
      "-------------------------------------------------------------------\n",
      "CompleteCIP2  -0.5975    0.0284  -21.0125  0.0000  -0.6532  -0.5418\n",
      "TermGPA       -0.3683    0.0601   -6.1303  0.0000  -0.4860  -0.2505\n",
      "CumGPA        -0.2197    0.0615   -3.5747  0.0004  -0.3401  -0.0992\n",
      "==================================================================\n",
      "\n"
     ]
    }
   ],
   "source": [
    "print(result.summary())\n",
    "print(result.summary2())"
   ]
  },
  {
   "cell_type": "code",
   "execution_count": 1690,
   "id": "a5d0c715",
   "metadata": {},
   "outputs": [
    {
     "name": "stdout",
     "output_type": "stream",
     "text": [
      "Accuracy of logistic regression classifier on test set: 0.67\n"
     ]
    }
   ],
   "source": [
    "X_train, X_test, y_train, y_test = train_test_split(X, y, test_size=0.2, random_state=0)\n",
    "logreg = LogisticRegression(solver='lbfgs', max_iter=6000)\n",
    "logreg.fit(X_train, y_train)\n",
    "y_pred = logreg.predict(X_test)\n",
    "print('Accuracy of logistic regression classifier on test set: {:.2f}'.format(logreg.score(X_test, y_test)))"
   ]
  },
  {
   "cell_type": "markdown",
   "id": "54a24647",
   "metadata": {},
   "source": [
    "##  Student Financial Data"
   ]
  },
  {
   "cell_type": "code",
   "execution_count": 1823,
   "id": "b289dbdd",
   "metadata": {},
   "outputs": [],
   "source": [
    "#Import the dataset \n",
    "Student_finacial_data = pd.read_csv('Student Financial Aid Data/2011-2017_Cohorts_Financial_Aid_and_Fafsa_Data.csv')"
   ]
  },
  {
   "cell_type": "code",
   "execution_count": 1824,
   "id": "de29802e",
   "metadata": {},
   "outputs": [],
   "source": [
    "Student_finacial_data_statics=Student_finacial_data.drop(columns=['ID with leading','cohort term',])"
   ]
  },
  {
   "cell_type": "code",
   "execution_count": 1825,
   "id": "baebb687",
   "metadata": {},
   "outputs": [
    {
     "data": {
      "text/html": [
       "<div>\n",
       "<style scoped>\n",
       "    .dataframe tbody tr th:only-of-type {\n",
       "        vertical-align: middle;\n",
       "    }\n",
       "\n",
       "    .dataframe tbody tr th {\n",
       "        vertical-align: top;\n",
       "    }\n",
       "\n",
       "    .dataframe thead th {\n",
       "        text-align: right;\n",
       "    }\n",
       "</style>\n",
       "<table border=\"1\" class=\"dataframe\">\n",
       "  <thead>\n",
       "    <tr style=\"text-align: right;\">\n",
       "      <th></th>\n",
       "      <th>Adjusted Gross Income</th>\n",
       "      <th>Parent Adjusted Gross Income</th>\n",
       "      <th>2012 Loan</th>\n",
       "      <th>2012 Scholarship</th>\n",
       "      <th>2012 Work/Study</th>\n",
       "      <th>2012 Grant</th>\n",
       "      <th>2013 Loan</th>\n",
       "      <th>2013 Scholarship</th>\n",
       "      <th>2013 Work/Study</th>\n",
       "      <th>2013 Grant</th>\n",
       "      <th>...</th>\n",
       "      <th>2015 Work/Study</th>\n",
       "      <th>2015 Grant</th>\n",
       "      <th>2016 Loan</th>\n",
       "      <th>2016 Scholarship</th>\n",
       "      <th>2016 Work/Study</th>\n",
       "      <th>2016 Grant</th>\n",
       "      <th>2017 Loan</th>\n",
       "      <th>2017 Scholarship</th>\n",
       "      <th>2017 Work/Study</th>\n",
       "      <th>2017 Grant</th>\n",
       "    </tr>\n",
       "  </thead>\n",
       "  <tbody>\n",
       "    <tr>\n",
       "      <th>count</th>\n",
       "      <td>1.161500e+04</td>\n",
       "      <td>11615.000000</td>\n",
       "      <td>1237.000000</td>\n",
       "      <td>171.000000</td>\n",
       "      <td>103.000000</td>\n",
       "      <td>1354.000000</td>\n",
       "      <td>2187.000000</td>\n",
       "      <td>310.000000</td>\n",
       "      <td>179.000000</td>\n",
       "      <td>2319.000000</td>\n",
       "      <td>...</td>\n",
       "      <td>249.000000</td>\n",
       "      <td>3404.000000</td>\n",
       "      <td>3175.000000</td>\n",
       "      <td>685.000000</td>\n",
       "      <td>272.000000</td>\n",
       "      <td>3694.000000</td>\n",
       "      <td>3324.000000</td>\n",
       "      <td>985.000000</td>\n",
       "      <td>367.000000</td>\n",
       "      <td>4037.000000</td>\n",
       "    </tr>\n",
       "    <tr>\n",
       "      <th>mean</th>\n",
       "      <td>1.312492e+04</td>\n",
       "      <td>28101.521653</td>\n",
       "      <td>7169.025869</td>\n",
       "      <td>5224.741813</td>\n",
       "      <td>1872.995146</td>\n",
       "      <td>6660.931617</td>\n",
       "      <td>7156.096278</td>\n",
       "      <td>4792.646903</td>\n",
       "      <td>2084.268156</td>\n",
       "      <td>7094.158098</td>\n",
       "      <td>...</td>\n",
       "      <td>2127.195783</td>\n",
       "      <td>7369.863796</td>\n",
       "      <td>7625.026822</td>\n",
       "      <td>4897.317679</td>\n",
       "      <td>2036.352941</td>\n",
       "      <td>7458.963519</td>\n",
       "      <td>8256.243983</td>\n",
       "      <td>5024.025198</td>\n",
       "      <td>1928.544441</td>\n",
       "      <td>7794.156061</td>\n",
       "    </tr>\n",
       "    <tr>\n",
       "      <th>std</th>\n",
       "      <td>3.557485e+04</td>\n",
       "      <td>42988.074677</td>\n",
       "      <td>6087.970826</td>\n",
       "      <td>5002.498203</td>\n",
       "      <td>665.153279</td>\n",
       "      <td>3811.967801</td>\n",
       "      <td>4807.548156</td>\n",
       "      <td>4413.279380</td>\n",
       "      <td>663.526606</td>\n",
       "      <td>3905.860943</td>\n",
       "      <td>...</td>\n",
       "      <td>850.855342</td>\n",
       "      <td>4018.332071</td>\n",
       "      <td>4885.988167</td>\n",
       "      <td>3870.333736</td>\n",
       "      <td>597.392613</td>\n",
       "      <td>4058.668360</td>\n",
       "      <td>5472.801128</td>\n",
       "      <td>3891.554164</td>\n",
       "      <td>530.666080</td>\n",
       "      <td>4173.771027</td>\n",
       "    </tr>\n",
       "    <tr>\n",
       "      <th>min</th>\n",
       "      <td>-2.432600e+04</td>\n",
       "      <td>-62979.000000</td>\n",
       "      <td>337.000000</td>\n",
       "      <td>283.000000</td>\n",
       "      <td>200.000000</td>\n",
       "      <td>79.090000</td>\n",
       "      <td>103.000000</td>\n",
       "      <td>23.000000</td>\n",
       "      <td>25.000000</td>\n",
       "      <td>162.000000</td>\n",
       "      <td>...</td>\n",
       "      <td>10.000000</td>\n",
       "      <td>209.000000</td>\n",
       "      <td>103.000000</td>\n",
       "      <td>28.300000</td>\n",
       "      <td>75.000000</td>\n",
       "      <td>9.690000</td>\n",
       "      <td>103.000000</td>\n",
       "      <td>100.000000</td>\n",
       "      <td>45.000000</td>\n",
       "      <td>0.100000</td>\n",
       "    </tr>\n",
       "    <tr>\n",
       "      <th>25%</th>\n",
       "      <td>0.000000e+00</td>\n",
       "      <td>0.000000</td>\n",
       "      <td>3500.000000</td>\n",
       "      <td>2000.000000</td>\n",
       "      <td>1700.000000</td>\n",
       "      <td>3368.250000</td>\n",
       "      <td>3500.000000</td>\n",
       "      <td>2000.000000</td>\n",
       "      <td>2000.000000</td>\n",
       "      <td>3683.000000</td>\n",
       "      <td>...</td>\n",
       "      <td>2000.000000</td>\n",
       "      <td>3880.000000</td>\n",
       "      <td>4500.000000</td>\n",
       "      <td>2000.000000</td>\n",
       "      <td>2000.000000</td>\n",
       "      <td>3963.250000</td>\n",
       "      <td>5353.750000</td>\n",
       "      <td>2000.000000</td>\n",
       "      <td>1500.000000</td>\n",
       "      <td>4261.000000</td>\n",
       "    </tr>\n",
       "    <tr>\n",
       "      <th>50%</th>\n",
       "      <td>2.637000e+03</td>\n",
       "      <td>12372.000000</td>\n",
       "      <td>5500.000000</td>\n",
       "      <td>4000.000000</td>\n",
       "      <td>2000.000000</td>\n",
       "      <td>5794.000000</td>\n",
       "      <td>5500.000000</td>\n",
       "      <td>3548.650000</td>\n",
       "      <td>2000.000000</td>\n",
       "      <td>6089.000000</td>\n",
       "      <td>...</td>\n",
       "      <td>2000.000000</td>\n",
       "      <td>6358.000000</td>\n",
       "      <td>6420.000000</td>\n",
       "      <td>4000.000000</td>\n",
       "      <td>2000.000000</td>\n",
       "      <td>6428.000000</td>\n",
       "      <td>6500.000000</td>\n",
       "      <td>4000.000000</td>\n",
       "      <td>2000.000000</td>\n",
       "      <td>7305.000000</td>\n",
       "    </tr>\n",
       "    <tr>\n",
       "      <th>75%</th>\n",
       "      <td>1.632300e+04</td>\n",
       "      <td>38587.000000</td>\n",
       "      <td>9500.000000</td>\n",
       "      <td>6000.000000</td>\n",
       "      <td>2121.000000</td>\n",
       "      <td>10714.000000</td>\n",
       "      <td>9500.000000</td>\n",
       "      <td>6408.800000</td>\n",
       "      <td>2200.000000</td>\n",
       "      <td>11040.000000</td>\n",
       "      <td>...</td>\n",
       "      <td>2800.000000</td>\n",
       "      <td>11592.000000</td>\n",
       "      <td>10500.000000</td>\n",
       "      <td>6000.000000</td>\n",
       "      <td>2000.000000</td>\n",
       "      <td>11717.500000</td>\n",
       "      <td>11812.500000</td>\n",
       "      <td>6906.100000</td>\n",
       "      <td>2000.000000</td>\n",
       "      <td>12173.000000</td>\n",
       "    </tr>\n",
       "    <tr>\n",
       "      <th>max</th>\n",
       "      <td>2.576425e+06</td>\n",
       "      <td>657631.000000</td>\n",
       "      <td>55626.000000</td>\n",
       "      <td>27631.900000</td>\n",
       "      <td>3000.000000</td>\n",
       "      <td>13263.000000</td>\n",
       "      <td>50555.000000</td>\n",
       "      <td>28737.100000</td>\n",
       "      <td>4000.000000</td>\n",
       "      <td>13790.000000</td>\n",
       "      <td>...</td>\n",
       "      <td>4600.000000</td>\n",
       "      <td>19038.000000</td>\n",
       "      <td>52880.000000</td>\n",
       "      <td>31265.500000</td>\n",
       "      <td>4000.000000</td>\n",
       "      <td>18505.000000</td>\n",
       "      <td>60118.000000</td>\n",
       "      <td>33847.900000</td>\n",
       "      <td>3000.000000</td>\n",
       "      <td>19823.000000</td>\n",
       "    </tr>\n",
       "  </tbody>\n",
       "</table>\n",
       "<p>8 rows × 26 columns</p>\n",
       "</div>"
      ],
      "text/plain": [
       "       Adjusted Gross Income  Parent Adjusted Gross Income     2012 Loan  \\\n",
       "count           1.161500e+04                  11615.000000   1237.000000   \n",
       "mean            1.312492e+04                  28101.521653   7169.025869   \n",
       "std             3.557485e+04                  42988.074677   6087.970826   \n",
       "min            -2.432600e+04                 -62979.000000    337.000000   \n",
       "25%             0.000000e+00                      0.000000   3500.000000   \n",
       "50%             2.637000e+03                  12372.000000   5500.000000   \n",
       "75%             1.632300e+04                  38587.000000   9500.000000   \n",
       "max             2.576425e+06                 657631.000000  55626.000000   \n",
       "\n",
       "       2012 Scholarship  2012 Work/Study    2012 Grant     2013 Loan  \\\n",
       "count        171.000000       103.000000   1354.000000   2187.000000   \n",
       "mean        5224.741813      1872.995146   6660.931617   7156.096278   \n",
       "std         5002.498203       665.153279   3811.967801   4807.548156   \n",
       "min          283.000000       200.000000     79.090000    103.000000   \n",
       "25%         2000.000000      1700.000000   3368.250000   3500.000000   \n",
       "50%         4000.000000      2000.000000   5794.000000   5500.000000   \n",
       "75%         6000.000000      2121.000000  10714.000000   9500.000000   \n",
       "max        27631.900000      3000.000000  13263.000000  50555.000000   \n",
       "\n",
       "       2013 Scholarship  2013 Work/Study    2013 Grant  ...  2015 Work/Study  \\\n",
       "count        310.000000       179.000000   2319.000000  ...       249.000000   \n",
       "mean        4792.646903      2084.268156   7094.158098  ...      2127.195783   \n",
       "std         4413.279380       663.526606   3905.860943  ...       850.855342   \n",
       "min           23.000000        25.000000    162.000000  ...        10.000000   \n",
       "25%         2000.000000      2000.000000   3683.000000  ...      2000.000000   \n",
       "50%         3548.650000      2000.000000   6089.000000  ...      2000.000000   \n",
       "75%         6408.800000      2200.000000  11040.000000  ...      2800.000000   \n",
       "max        28737.100000      4000.000000  13790.000000  ...      4600.000000   \n",
       "\n",
       "         2015 Grant     2016 Loan  2016 Scholarship  2016 Work/Study  \\\n",
       "count   3404.000000   3175.000000        685.000000       272.000000   \n",
       "mean    7369.863796   7625.026822       4897.317679      2036.352941   \n",
       "std     4018.332071   4885.988167       3870.333736       597.392613   \n",
       "min      209.000000    103.000000         28.300000        75.000000   \n",
       "25%     3880.000000   4500.000000       2000.000000      2000.000000   \n",
       "50%     6358.000000   6420.000000       4000.000000      2000.000000   \n",
       "75%    11592.000000  10500.000000       6000.000000      2000.000000   \n",
       "max    19038.000000  52880.000000      31265.500000      4000.000000   \n",
       "\n",
       "         2016 Grant     2017 Loan  2017 Scholarship  2017 Work/Study  \\\n",
       "count   3694.000000   3324.000000        985.000000       367.000000   \n",
       "mean    7458.963519   8256.243983       5024.025198      1928.544441   \n",
       "std     4058.668360   5472.801128       3891.554164       530.666080   \n",
       "min        9.690000    103.000000        100.000000        45.000000   \n",
       "25%     3963.250000   5353.750000       2000.000000      1500.000000   \n",
       "50%     6428.000000   6500.000000       4000.000000      2000.000000   \n",
       "75%    11717.500000  11812.500000       6906.100000      2000.000000   \n",
       "max    18505.000000  60118.000000      33847.900000      3000.000000   \n",
       "\n",
       "         2017 Grant  \n",
       "count   4037.000000  \n",
       "mean    7794.156061  \n",
       "std     4173.771027  \n",
       "min        0.100000  \n",
       "25%     4261.000000  \n",
       "50%     7305.000000  \n",
       "75%    12173.000000  \n",
       "max    19823.000000  \n",
       "\n",
       "[8 rows x 26 columns]"
      ]
     },
     "execution_count": 1825,
     "metadata": {},
     "output_type": "execute_result"
    }
   ],
   "source": [
    "Student_finacial_data_statics.describe()"
   ]
  },
  {
   "cell_type": "code",
   "execution_count": 1826,
   "id": "a0b58dac",
   "metadata": {
    "scrolled": false
   },
   "outputs": [
    {
     "name": "stdout",
     "output_type": "stream",
     "text": [
      "<class 'pandas.core.frame.DataFrame'>\n",
      "RangeIndex: 13769 entries, 0 to 13768\n",
      "Data columns (total 33 columns):\n",
      " #   Column                        Non-Null Count  Dtype  \n",
      "---  ------                        --------------  -----  \n",
      " 0   ID with leading               13769 non-null  int64  \n",
      " 1   cohort                        13769 non-null  object \n",
      " 2   cohort term                   13769 non-null  int64  \n",
      " 3   Marital Status                11615 non-null  object \n",
      " 4   Adjusted Gross Income         11615 non-null  float64\n",
      " 5   Parent Adjusted Gross Income  11615 non-null  float64\n",
      " 6   Father's Highest Grade Level  11477 non-null  object \n",
      " 7   Mother's Highest Grade Level  11249 non-null  object \n",
      " 8   Housing                       11605 non-null  object \n",
      " 9   2012 Loan                     1237 non-null   float64\n",
      " 10  2012 Scholarship              171 non-null    float64\n",
      " 11  2012 Work/Study               103 non-null    float64\n",
      " 12  2012 Grant                    1354 non-null   float64\n",
      " 13  2013 Loan                     2187 non-null   float64\n",
      " 14  2013 Scholarship              310 non-null    float64\n",
      " 15  2013 Work/Study               179 non-null    float64\n",
      " 16  2013 Grant                    2319 non-null   float64\n",
      " 17  2014 Loan                     2741 non-null   float64\n",
      " 18  2014 Scholarship              416 non-null    float64\n",
      " 19  2014 Work/Study               243 non-null    float64\n",
      " 20  2014 Grant                    2929 non-null   float64\n",
      " 21  2015 Loan                     3051 non-null   float64\n",
      " 22  2015 Scholarship              595 non-null    float64\n",
      " 23  2015 Work/Study               249 non-null    float64\n",
      " 24  2015 Grant                    3404 non-null   float64\n",
      " 25  2016 Loan                     3175 non-null   float64\n",
      " 26  2016 Scholarship              685 non-null    float64\n",
      " 27  2016 Work/Study               272 non-null    float64\n",
      " 28  2016 Grant                    3694 non-null   float64\n",
      " 29  2017 Loan                     3324 non-null   float64\n",
      " 30  2017 Scholarship              985 non-null    float64\n",
      " 31  2017 Work/Study               367 non-null    float64\n",
      " 32  2017 Grant                    4037 non-null   float64\n",
      "dtypes: float64(26), int64(2), object(5)\n",
      "memory usage: 3.5+ MB\n"
     ]
    }
   ],
   "source": [
    "Student_finacial_data.info()"
   ]
  },
  {
   "cell_type": "code",
   "execution_count": 1827,
   "id": "55b1fb70",
   "metadata": {},
   "outputs": [
    {
     "data": {
      "text/plain": [
       "Single       10155\n",
       "Married       1024\n",
       "Divorced       236\n",
       "Separated      200\n",
       "Name: Marital Status, dtype: int64"
      ]
     },
     "execution_count": 1827,
     "metadata": {},
     "output_type": "execute_result"
    }
   ],
   "source": [
    "Student_finacial_data['Marital Status'].value_counts()"
   ]
  },
  {
   "cell_type": "code",
   "execution_count": 1828,
   "id": "02fa821c",
   "metadata": {},
   "outputs": [],
   "source": [
    "#Majority of the students are sigle, so fill the missing values with majority\n",
    "Student_finacial_data[['Marital Status']]=Student_finacial_data[['Marital Status']].fillna('Single')"
   ]
  },
  {
   "cell_type": "code",
   "execution_count": 1829,
   "id": "c5f44f75",
   "metadata": {},
   "outputs": [
    {
     "data": {
      "text/plain": [
       "Off Campus           5373\n",
       "With Parent          4608\n",
       "On Campus Housing    1624\n",
       "Name: Housing, dtype: int64"
      ]
     },
     "execution_count": 1829,
     "metadata": {},
     "output_type": "execute_result"
    }
   ],
   "source": [
    "Student_finacial_data['Housing'].value_counts()"
   ]
  },
  {
   "cell_type": "code",
   "execution_count": 1830,
   "id": "a54a66c8",
   "metadata": {},
   "outputs": [],
   "source": [
    "#Majority of the students are Off Campus, so fill the missing values with majority\n",
    "Student_finacial_data[['Housing']]=Student_finacial_data[['Housing']].fillna('Off Campus')"
   ]
  },
  {
   "cell_type": "code",
   "execution_count": 1831,
   "id": "00c694d0",
   "metadata": {},
   "outputs": [
    {
     "data": {
      "text/plain": [
       "High School      5092\n",
       "College          3284\n",
       "Unknown          1771\n",
       "Middle School    1330\n",
       "Name: Father's Highest Grade Level, dtype: int64"
      ]
     },
     "execution_count": 1831,
     "metadata": {},
     "output_type": "execute_result"
    }
   ],
   "source": [
    "Student_finacial_data['Father\\'s Highest Grade Level'].value_counts()"
   ]
  },
  {
   "cell_type": "code",
   "execution_count": 1832,
   "id": "a16bb49f",
   "metadata": {},
   "outputs": [],
   "source": [
    "#fill the missing values with Unknown\n",
    "Student_finacial_data[['Father\\'s Highest Grade Level']]=Student_finacial_data[['Father\\'s Highest Grade Level']].fillna('Unknown')"
   ]
  },
  {
   "cell_type": "code",
   "execution_count": 1833,
   "id": "945a62cd",
   "metadata": {},
   "outputs": [
    {
     "data": {
      "text/plain": [
       "High School      5024\n",
       "College          3215\n",
       "Unknown          1714\n",
       "Middle School    1296\n",
       "Name: Mother's Highest Grade Level, dtype: int64"
      ]
     },
     "execution_count": 1833,
     "metadata": {},
     "output_type": "execute_result"
    }
   ],
   "source": [
    "Student_finacial_data['Mother\\'s Highest Grade Level'].value_counts()"
   ]
  },
  {
   "cell_type": "code",
   "execution_count": 1834,
   "id": "595593ff",
   "metadata": {},
   "outputs": [],
   "source": [
    "#fill the missing values with Unknown\n",
    "Student_finacial_data[['Mother\\'s Highest Grade Level']]=Student_finacial_data[['Mother\\'s Highest Grade Level']].fillna('Unknown')"
   ]
  },
  {
   "cell_type": "code",
   "execution_count": 1835,
   "id": "29d7e7e3",
   "metadata": {},
   "outputs": [
    {
     "data": {
      "text/plain": [
       "13124.92363323289"
      ]
     },
     "execution_count": 1835,
     "metadata": {},
     "output_type": "execute_result"
    }
   ],
   "source": [
    "Student_finacial_data['Adjusted Gross Income'].mean()"
   ]
  },
  {
   "cell_type": "code",
   "execution_count": 1836,
   "id": "1d49da2c",
   "metadata": {},
   "outputs": [],
   "source": [
    "#Fill missing values with mean\n",
    "Student_finacial_data[['Adjusted Gross Income']]=Student_finacial_data[['Adjusted Gross Income']].fillna(13124.92)"
   ]
  },
  {
   "cell_type": "code",
   "execution_count": 1837,
   "id": "c56db046",
   "metadata": {
    "scrolled": true
   },
   "outputs": [
    {
     "data": {
      "text/plain": [
       "28101.52165303487"
      ]
     },
     "execution_count": 1837,
     "metadata": {},
     "output_type": "execute_result"
    }
   ],
   "source": [
    "Student_finacial_data['Parent Adjusted Gross Income'].mean()"
   ]
  },
  {
   "cell_type": "code",
   "execution_count": 1839,
   "id": "8bbf8647",
   "metadata": {},
   "outputs": [],
   "source": [
    "#Fill missing values with mean\n",
    "Student_finacial_data[['Parent Adjusted Gross Income']]=Student_finacial_data[['Parent Adjusted Gross Income']].fillna(28101.52)"
   ]
  },
  {
   "cell_type": "code",
   "execution_count": 1840,
   "id": "a91b7b52",
   "metadata": {},
   "outputs": [],
   "source": [
    "#import DropoutTrainLabels dataset\n",
    "DropoutTrainLabels = pd.read_csv('DropoutTrainLabels.csv')"
   ]
  },
  {
   "cell_type": "code",
   "execution_count": 1841,
   "id": "28379ea6",
   "metadata": {},
   "outputs": [],
   "source": [
    "#rename Id with Leading to StudentID\n",
    "Student_finacial_data = Student_finacial_data.rename(columns={'ID with leading': 'StudentID'})"
   ]
  },
  {
   "cell_type": "code",
   "execution_count": 1842,
   "id": "35228f24",
   "metadata": {
    "scrolled": true
   },
   "outputs": [],
   "source": [
    "#merge the two datasets\n",
    "Student_finacial_Data_to_model= pd.merge( Student_finacial_data,DropoutTrainLabels,on='StudentID')"
   ]
  },
  {
   "cell_type": "code",
   "execution_count": 1843,
   "id": "44bcab7d",
   "metadata": {
    "scrolled": false
   },
   "outputs": [
    {
     "name": "stdout",
     "output_type": "stream",
     "text": [
      "<class 'pandas.core.frame.DataFrame'>\n",
      "Int64Index: 12261 entries, 0 to 12260\n",
      "Data columns (total 34 columns):\n",
      " #   Column                        Non-Null Count  Dtype  \n",
      "---  ------                        --------------  -----  \n",
      " 0   StudentID                     12261 non-null  int64  \n",
      " 1   cohort                        12261 non-null  object \n",
      " 2   cohort term                   12261 non-null  int64  \n",
      " 3   Marital Status                12261 non-null  object \n",
      " 4   Adjusted Gross Income         12261 non-null  float64\n",
      " 5   Parent Adjusted Gross Income  12261 non-null  float64\n",
      " 6   Father's Highest Grade Level  12261 non-null  object \n",
      " 7   Mother's Highest Grade Level  12261 non-null  object \n",
      " 8   Housing                       12261 non-null  object \n",
      " 9   2012 Loan                     1151 non-null   float64\n",
      " 10  2012 Scholarship              160 non-null    float64\n",
      " 11  2012 Work/Study               96 non-null     float64\n",
      " 12  2012 Grant                    1257 non-null   float64\n",
      " 13  2013 Loan                     2007 non-null   float64\n",
      " 14  2013 Scholarship              285 non-null    float64\n",
      " 15  2013 Work/Study               164 non-null    float64\n",
      " 16  2013 Grant                    2107 non-null   float64\n",
      " 17  2014 Loan                     2536 non-null   float64\n",
      " 18  2014 Scholarship              382 non-null    float64\n",
      " 19  2014 Work/Study               226 non-null    float64\n",
      " 20  2014 Grant                    2699 non-null   float64\n",
      " 21  2015 Loan                     2832 non-null   float64\n",
      " 22  2015 Scholarship              538 non-null    float64\n",
      " 23  2015 Work/Study               232 non-null    float64\n",
      " 24  2015 Grant                    3134 non-null   float64\n",
      " 25  2016 Loan                     2931 non-null   float64\n",
      " 26  2016 Scholarship              629 non-null    float64\n",
      " 27  2016 Work/Study               244 non-null    float64\n",
      " 28  2016 Grant                    3399 non-null   float64\n",
      " 29  2017 Loan                     2899 non-null   float64\n",
      " 30  2017 Scholarship              855 non-null    float64\n",
      " 31  2017 Work/Study               322 non-null    float64\n",
      " 32  2017 Grant                    3477 non-null   float64\n",
      " 33  Dropout                       12261 non-null  int64  \n",
      "dtypes: float64(26), int64(3), object(5)\n",
      "memory usage: 3.3+ MB\n"
     ]
    }
   ],
   "source": [
    "Student_finacial_Data_to_model.info()"
   ]
  },
  {
   "cell_type": "markdown",
   "id": "9c46845d",
   "metadata": {},
   "source": [
    "### create the Dummy Variables"
   ]
  },
  {
   "cell_type": "code",
   "execution_count": 1844,
   "id": "b8e7db86",
   "metadata": {},
   "outputs": [],
   "source": [
    "Marital_Status_dummies = pd.get_dummies(Student_finacial_Data_to_model['Marital Status'], prefix=\"Marital Status\")"
   ]
  },
  {
   "cell_type": "code",
   "execution_count": 1845,
   "id": "ec1687c9",
   "metadata": {},
   "outputs": [],
   "source": [
    "df_with_dummies=Student_finacial_Data_to_model.drop(columns=['Marital Status'])"
   ]
  },
  {
   "cell_type": "code",
   "execution_count": 1846,
   "id": "10531214",
   "metadata": {},
   "outputs": [],
   "source": [
    "df_with_dummies = pd.concat([Student_finacial_Data_to_model,Marital_Status_dummies],axis='columns')"
   ]
  },
  {
   "cell_type": "code",
   "execution_count": 1847,
   "id": "43f03888",
   "metadata": {},
   "outputs": [],
   "source": [
    "df_with_dummies=df_with_dummies.drop(columns=['Marital Status'])"
   ]
  },
  {
   "cell_type": "code",
   "execution_count": 1848,
   "id": "167e4590",
   "metadata": {},
   "outputs": [],
   "source": [
    "Housing_dummies = pd.get_dummies(df_with_dummies['Housing'], prefix=\"Housing\")"
   ]
  },
  {
   "cell_type": "code",
   "execution_count": 1849,
   "id": "0bcf91af",
   "metadata": {},
   "outputs": [],
   "source": [
    "df_with_dummies=df_with_dummies.drop(columns=['Housing'])"
   ]
  },
  {
   "cell_type": "code",
   "execution_count": 1850,
   "id": "23437090",
   "metadata": {},
   "outputs": [],
   "source": [
    "df_with_dummies = pd.concat([df_with_dummies,Housing_dummies],axis='columns')"
   ]
  },
  {
   "cell_type": "code",
   "execution_count": 1851,
   "id": "1da7b703",
   "metadata": {},
   "outputs": [],
   "source": [
    "FatherHighestGradeLevel_dummies = pd.get_dummies(df_with_dummies['Father\\'s Highest Grade Level'], prefix=\"FatherHighestGradeLevel\")"
   ]
  },
  {
   "cell_type": "code",
   "execution_count": 1852,
   "id": "49ea6e1e",
   "metadata": {},
   "outputs": [],
   "source": [
    "df_with_dummies=df_with_dummies.drop(columns=['Father\\'s Highest Grade Level'])"
   ]
  },
  {
   "cell_type": "code",
   "execution_count": 1853,
   "id": "aab73673",
   "metadata": {},
   "outputs": [],
   "source": [
    "df_with_dummies = pd.concat([df_with_dummies,FatherHighestGradeLevel_dummies],axis='columns')"
   ]
  },
  {
   "cell_type": "code",
   "execution_count": 1854,
   "id": "32b0956b",
   "metadata": {},
   "outputs": [],
   "source": [
    "MotherHighestGradeLevel_dummies = pd.get_dummies(df_with_dummies['Mother\\'s Highest Grade Level'], prefix=\"MotherHighestGradeLevel\")"
   ]
  },
  {
   "cell_type": "code",
   "execution_count": 1855,
   "id": "0a006d6e",
   "metadata": {},
   "outputs": [],
   "source": [
    "df_with_dummies=df_with_dummies.drop(columns=['Mother\\'s Highest Grade Level'])"
   ]
  },
  {
   "cell_type": "code",
   "execution_count": 1856,
   "id": "332a74b9",
   "metadata": {},
   "outputs": [],
   "source": [
    "df_with_dummies = pd.concat([df_with_dummies,MotherHighestGradeLevel_dummies],axis='columns')"
   ]
  },
  {
   "cell_type": "code",
   "execution_count": 1857,
   "id": "f005d5fe",
   "metadata": {},
   "outputs": [],
   "source": [
    "y = df_with_dummies.Dropout"
   ]
  },
  {
   "cell_type": "code",
   "execution_count": 1858,
   "id": "e5c166c3",
   "metadata": {},
   "outputs": [],
   "source": [
    "df_with_dummies=df_with_dummies.drop(columns=['StudentID','Dropout','cohort','cohort term','2012 Loan','2012 Scholarship','2012 Work/Study','2012 Grant','2013 Loan','2013 Scholarship','2013 Work/Study','2013 Grant','2014 Loan','2014 Scholarship','2014 Work/Study','2014 Grant','2015 Loan','2015 Scholarship','2015 Work/Study','2015 Grant','2016 Loan','2016 Scholarship','2016 Work/Study','2016 Grant','2017 Loan','2017 Scholarship','2017 Work/Study','2017 Grant'])"
   ]
  },
  {
   "cell_type": "code",
   "execution_count": 1859,
   "id": "a6634bb0",
   "metadata": {},
   "outputs": [
    {
     "name": "stdout",
     "output_type": "stream",
     "text": [
      "<class 'pandas.core.frame.DataFrame'>\n",
      "Int64Index: 12261 entries, 0 to 12260\n",
      "Data columns (total 17 columns):\n",
      " #   Column                                 Non-Null Count  Dtype  \n",
      "---  ------                                 --------------  -----  \n",
      " 0   Adjusted Gross Income                  12261 non-null  float64\n",
      " 1   Parent Adjusted Gross Income           12261 non-null  float64\n",
      " 2   Marital Status_Divorced                12261 non-null  uint8  \n",
      " 3   Marital Status_Married                 12261 non-null  uint8  \n",
      " 4   Marital Status_Separated               12261 non-null  uint8  \n",
      " 5   Marital Status_Single                  12261 non-null  uint8  \n",
      " 6   Housing_Off Campus                     12261 non-null  uint8  \n",
      " 7   Housing_On Campus Housing              12261 non-null  uint8  \n",
      " 8   Housing_With Parent                    12261 non-null  uint8  \n",
      " 9   FatherHighestGradeLevel_College        12261 non-null  uint8  \n",
      " 10  FatherHighestGradeLevel_High School    12261 non-null  uint8  \n",
      " 11  FatherHighestGradeLevel_Middle School  12261 non-null  uint8  \n",
      " 12  FatherHighestGradeLevel_Unknown        12261 non-null  uint8  \n",
      " 13  MotherHighestGradeLevel_College        12261 non-null  uint8  \n",
      " 14  MotherHighestGradeLevel_High School    12261 non-null  uint8  \n",
      " 15  MotherHighestGradeLevel_Middle School  12261 non-null  uint8  \n",
      " 16  MotherHighestGradeLevel_Unknown        12261 non-null  uint8  \n",
      "dtypes: float64(2), uint8(15)\n",
      "memory usage: 467.0 KB\n"
     ]
    }
   ],
   "source": [
    "df_with_dummies.info()"
   ]
  },
  {
   "cell_type": "code",
   "execution_count": 1860,
   "id": "2abcf893",
   "metadata": {},
   "outputs": [],
   "source": [
    "X = df_with_dummies"
   ]
  },
  {
   "cell_type": "code",
   "execution_count": 1861,
   "id": "676c24f8",
   "metadata": {},
   "outputs": [
    {
     "name": "stderr",
     "output_type": "stream",
     "text": [
      "C:\\Users\\G3fry\\mambaforge\\lib\\site-packages\\statsmodels\\tsa\\tsatools.py:142: FutureWarning: In a future version of pandas all arguments of concat except for the argument 'objs' will be keyword-only\n",
      "  x = pd.concat(x[::order], 1)\n"
     ]
    }
   ],
   "source": [
    "X = sm.add_constant(X)"
   ]
  },
  {
   "cell_type": "code",
   "execution_count": 1862,
   "id": "f5f8ec91",
   "metadata": {},
   "outputs": [
    {
     "name": "stdout",
     "output_type": "stream",
     "text": [
      "Warning: Maximum number of iterations has been exceeded.\n",
      "         Current function value: 0.658107\n",
      "         Iterations: 35\n"
     ]
    },
    {
     "name": "stderr",
     "output_type": "stream",
     "text": [
      "C:\\Users\\G3fry\\mambaforge\\lib\\site-packages\\statsmodels\\base\\model.py:566: ConvergenceWarning: Maximum Likelihood optimization failed to converge. Check mle_retvals\n",
      "  warnings.warn(\"Maximum Likelihood optimization failed to \"\n"
     ]
    }
   ],
   "source": [
    "model=sm.Logit(y,X)\n",
    "result = model.fit(method='newton')"
   ]
  },
  {
   "cell_type": "code",
   "execution_count": 1863,
   "id": "1180ec28",
   "metadata": {
    "scrolled": true
   },
   "outputs": [
    {
     "name": "stdout",
     "output_type": "stream",
     "text": [
      "                           Logit Regression Results                           \n",
      "==============================================================================\n",
      "Dep. Variable:                Dropout   No. Observations:                12261\n",
      "Model:                          Logit   Df Residuals:                    12247\n",
      "Method:                           MLE   Df Model:                           13\n",
      "Date:                Thu, 08 Jul 2021   Pseudo R-squ.:                 0.01329\n",
      "Time:                        20:44:05   Log-Likelihood:                -8069.1\n",
      "converged:                      False   LL-Null:                       -8177.8\n",
      "Covariance Type:            nonrobust   LLR p-value:                 3.595e-39\n",
      "=========================================================================================================\n",
      "                                            coef    std err          z      P>|z|      [0.025      0.975]\n",
      "---------------------------------------------------------------------------------------------------------\n",
      "const                                    -0.2658   7.64e+05  -3.48e-07      1.000    -1.5e+06     1.5e+06\n",
      "Adjusted Gross Income                 -1.003e-06   8.88e-07     -1.129      0.259   -2.74e-06    7.38e-07\n",
      "Parent Adjusted Gross Income          -1.932e-06   5.36e-07     -3.604      0.000   -2.98e-06   -8.81e-07\n",
      "Marital Status_Divorced                  -0.2292        nan        nan        nan         nan         nan\n",
      "Marital Status_Married                   -0.2207        nan        nan        nan         nan         nan\n",
      "Marital Status_Separated                  0.0869        nan        nan        nan         nan         nan\n",
      "Marital Status_Single                     0.0972        nan        nan        nan         nan         nan\n",
      "Housing_Off Campus                        0.0111   1.78e+06   6.23e-09      1.000   -3.48e+06    3.48e+06\n",
      "Housing_On Campus Housing                -0.0687   1.83e+06  -3.75e-08      1.000   -3.59e+06    3.59e+06\n",
      "Housing_With Parent                      -0.2082   1.86e+06  -1.12e-07      1.000   -3.65e+06    3.65e+06\n",
      "FatherHighestGradeLevel_College          -0.3211        nan        nan        nan         nan         nan\n",
      "FatherHighestGradeLevel_High School      -0.1500        nan        nan        nan         nan         nan\n",
      "FatherHighestGradeLevel_Middle School    -0.1694        nan        nan        nan         nan         nan\n",
      "FatherHighestGradeLevel_Unknown           0.3747        nan        nan        nan         nan         nan\n",
      "MotherHighestGradeLevel_College           0.0496        nan        nan        nan         nan         nan\n",
      "MotherHighestGradeLevel_High School      -0.0308        nan        nan        nan         nan         nan\n",
      "MotherHighestGradeLevel_Middle School     0.0429        nan        nan        nan         nan         nan\n",
      "MotherHighestGradeLevel_Unknown          -0.3275        nan        nan        nan         nan         nan\n",
      "=========================================================================================================\n",
      "                                           Results: Logit\n",
      "====================================================================================================\n",
      "Model:                           Logit                       Pseudo R-squared:            0.013     \n",
      "Dependent Variable:              Dropout                     AIC:                         16166.1083\n",
      "Date:                            2021-07-08 20:44            BIC:                         16269.9068\n",
      "No. Observations:                12261                       Log-Likelihood:              -8069.1   \n",
      "Df Model:                        13                          LL-Null:                     -8177.8   \n",
      "Df Residuals:                    12247                       LLR p-value:                 3.5954e-39\n",
      "Converged:                       0.0000                      Scale:                       1.0000    \n",
      "No. Iterations:                  35.0000                                                            \n",
      "----------------------------------------------------------------------------------------------------\n",
      "                                       Coef.    Std.Err.      z    P>|z|      [0.025       0.975]   \n",
      "----------------------------------------------------------------------------------------------------\n",
      "const                                 -0.2658  764354.2037 -0.0000 1.0000 -1498106.9764 1498106.4449\n",
      "Adjusted Gross Income                 -0.0000       0.0000 -1.1288 0.2590       -0.0000       0.0000\n",
      "Parent Adjusted Gross Income          -0.0000       0.0000 -3.6038 0.0003       -0.0000      -0.0000\n",
      "Marital Status_Divorced               -0.2292          nan     nan    nan           nan          nan\n",
      "Marital Status_Married                -0.2207          nan     nan    nan           nan          nan\n",
      "Marital Status_Separated               0.0869          nan     nan    nan           nan          nan\n",
      "Marital Status_Single                  0.0972          nan     nan    nan           nan          nan\n",
      "Housing_Off Campus                     0.0111 1777602.1338  0.0000 1.0000 -3484036.1501 3484036.1723\n",
      "Housing_On Campus Housing             -0.0687 1834016.2792 -0.0000 1.0000 -3594605.9230 3594605.7856\n",
      "Housing_With Parent                   -0.2082 1862554.5743 -0.0000 1.0000 -3650540.0931 3650539.6768\n",
      "FatherHighestGradeLevel_College       -0.3211          nan     nan    nan           nan          nan\n",
      "FatherHighestGradeLevel_High School   -0.1500          nan     nan    nan           nan          nan\n",
      "FatherHighestGradeLevel_Middle School -0.1694          nan     nan    nan           nan          nan\n",
      "FatherHighestGradeLevel_Unknown        0.3747          nan     nan    nan           nan          nan\n",
      "MotherHighestGradeLevel_College        0.0496          nan     nan    nan           nan          nan\n",
      "MotherHighestGradeLevel_High School   -0.0308          nan     nan    nan           nan          nan\n",
      "MotherHighestGradeLevel_Middle School  0.0429          nan     nan    nan           nan          nan\n",
      "MotherHighestGradeLevel_Unknown       -0.3275          nan     nan    nan           nan          nan\n",
      "====================================================================================================\n",
      "\n"
     ]
    }
   ],
   "source": [
    "print(result.summary())\n",
    "print(result.summary2())"
   ]
  },
  {
   "cell_type": "code",
   "execution_count": 1864,
   "id": "b457bec8",
   "metadata": {},
   "outputs": [
    {
     "name": "stdout",
     "output_type": "stream",
     "text": [
      "Accuracy of logistic regression classifier on test set: 0.61\n"
     ]
    }
   ],
   "source": [
    "X_train, X_test, y_train, y_test = train_test_split(X, y, test_size=0.2, random_state=0)\n",
    "logreg = LogisticRegression(solver='lbfgs', max_iter=6000)\n",
    "logreg.fit(X_train, y_train)\n",
    "y_pred = logreg.predict(X_test)\n",
    "print('Accuracy of logistic regression classifier on test set: {:.2f}'.format(logreg.score(X_test, y_test)))"
   ]
  },
  {
   "cell_type": "markdown",
   "id": "141e8b65",
   "metadata": {},
   "source": [
    "### Drop Marital Status, Housing, FatherHighestGradeLevel,MotherHighestGradeLevel.As it's p value is High"
   ]
  },
  {
   "cell_type": "code",
   "execution_count": 1866,
   "id": "1cb7f3a0",
   "metadata": {},
   "outputs": [],
   "source": [
    "X=X.drop(columns=['Marital Status_Divorced','Marital Status_Married','Marital Status_Separated','Marital Status_Single','Housing_Off Campus','Housing_On Campus Housing','Housing_With Parent','FatherHighestGradeLevel_College','FatherHighestGradeLevel_High School','FatherHighestGradeLevel_Middle School','FatherHighestGradeLevel_Unknown','MotherHighestGradeLevel_High School','MotherHighestGradeLevel_High School','MotherHighestGradeLevel_Middle School','MotherHighestGradeLevel_College','MotherHighestGradeLevel_Unknown'])"
   ]
  },
  {
   "cell_type": "code",
   "execution_count": 1868,
   "id": "3df0b4a8",
   "metadata": {},
   "outputs": [
    {
     "name": "stderr",
     "output_type": "stream",
     "text": [
      "C:\\Users\\G3fry\\mambaforge\\lib\\site-packages\\statsmodels\\tsa\\tsatools.py:142: FutureWarning: In a future version of pandas all arguments of concat except for the argument 'objs' will be keyword-only\n",
      "  x = pd.concat(x[::order], 1)\n"
     ]
    }
   ],
   "source": [
    "X = sm.add_constant(X)"
   ]
  },
  {
   "cell_type": "code",
   "execution_count": 1869,
   "id": "ffebed76",
   "metadata": {},
   "outputs": [
    {
     "name": "stdout",
     "output_type": "stream",
     "text": [
      "Optimization terminated successfully.\n",
      "         Current function value: 0.665634\n",
      "         Iterations 5\n"
     ]
    }
   ],
   "source": [
    "model=sm.Logit(y,X)\n",
    "result = model.fit(method='newton')"
   ]
  },
  {
   "cell_type": "code",
   "execution_count": 1870,
   "id": "fc862e22",
   "metadata": {},
   "outputs": [
    {
     "name": "stdout",
     "output_type": "stream",
     "text": [
      "                           Logit Regression Results                           \n",
      "==============================================================================\n",
      "Dep. Variable:                Dropout   No. Observations:                12261\n",
      "Model:                          Logit   Df Residuals:                    12258\n",
      "Method:                           MLE   Df Model:                            2\n",
      "Date:                Thu, 08 Jul 2021   Pseudo R-squ.:                0.002007\n",
      "Time:                        20:56:14   Log-Likelihood:                -8161.3\n",
      "converged:                       True   LL-Null:                       -8177.8\n",
      "Covariance Type:            nonrobust   LLR p-value:                 7.419e-08\n",
      "================================================================================================\n",
      "                                   coef    std err          z      P>|z|      [0.025      0.975]\n",
      "------------------------------------------------------------------------------------------------\n",
      "const                           -0.3631      0.027    -13.459      0.000      -0.416      -0.310\n",
      "Adjusted Gross Income        -1.858e-06   8.54e-07     -2.176      0.030   -3.53e-06   -1.85e-07\n",
      "Parent Adjusted Gross Income -2.753e-06   5.05e-07     -5.455      0.000   -3.74e-06   -1.76e-06\n",
      "================================================================================================\n",
      "                               Results: Logit\n",
      "=============================================================================\n",
      "Model:                  Logit                Pseudo R-squared:     0.002     \n",
      "Dependent Variable:     Dropout              AIC:                  16328.6692\n",
      "Date:                   2021-07-08 20:56     BIC:                  16350.9117\n",
      "No. Observations:       12261                Log-Likelihood:       -8161.3   \n",
      "Df Model:               2                    LL-Null:              -8177.8   \n",
      "Df Residuals:           12258                LLR p-value:          7.4186e-08\n",
      "Converged:              1.0000               Scale:                1.0000    \n",
      "No. Iterations:         5.0000                                               \n",
      "-----------------------------------------------------------------------------\n",
      "                              Coef.  Std.Err.    z     P>|z|   [0.025  0.975]\n",
      "-----------------------------------------------------------------------------\n",
      "const                        -0.3631   0.0270 -13.4595 0.0000 -0.4160 -0.3102\n",
      "Adjusted Gross Income        -0.0000   0.0000  -2.1764 0.0295 -0.0000 -0.0000\n",
      "Parent Adjusted Gross Income -0.0000   0.0000  -5.4547 0.0000 -0.0000 -0.0000\n",
      "=============================================================================\n",
      "\n"
     ]
    }
   ],
   "source": [
    "print(result.summary())\n",
    "print(result.summary2())"
   ]
  },
  {
   "cell_type": "code",
   "execution_count": 1871,
   "id": "a72a5169",
   "metadata": {},
   "outputs": [
    {
     "name": "stdout",
     "output_type": "stream",
     "text": [
      "Accuracy of logistic regression classifier on test set: 0.61\n"
     ]
    }
   ],
   "source": [
    "X_train, X_test, y_train, y_test = train_test_split(X, y, test_size=0.2, random_state=0)\n",
    "logreg = LogisticRegression(solver='lbfgs', max_iter=6000)\n",
    "logreg.fit(X_train, y_train)\n",
    "y_pred = logreg.predict(X_test)\n",
    "print('Accuracy of logistic regression classifier on test set: {:.2f}'.format(logreg.score(X_test, y_test)))"
   ]
  }
 ],
 "metadata": {
  "kernelspec": {
   "display_name": "Python 3 (ipykernel)",
   "language": "python",
   "name": "python3"
  },
  "language_info": {
   "codemirror_mode": {
    "name": "ipython",
    "version": 3
   },
   "file_extension": ".py",
   "mimetype": "text/x-python",
   "name": "python",
   "nbconvert_exporter": "python",
   "pygments_lexer": "ipython3",
   "version": "3.9.2"
  }
 },
 "nbformat": 4,
 "nbformat_minor": 5
}
